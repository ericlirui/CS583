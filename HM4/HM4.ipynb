{
  "nbformat": 4,
  "nbformat_minor": 0,
  "metadata": {
    "kernelspec": {
      "name": "python3",
      "display_name": "Python 3"
    },
    "colab": {
      "name": "HM4.ipynb",
      "provenance": [],
      "collapsed_sections": []
    },
    "accelerator": "GPU"
  },
  "cells": [
    {
      "cell_type": "markdown",
      "metadata": {
        "id": "lwo98SML1-xV",
        "colab_type": "text"
      },
      "source": [
        "# Home 4: Build a CNN for image recognition.\n",
        "\n",
        "### Name: [RUI LI]\n"
      ]
    },
    {
      "cell_type": "markdown",
      "metadata": {
        "id": "9pCND5ea1-xZ",
        "colab_type": "text"
      },
      "source": [
        "## 0. You will do the following:\n",
        "\n",
        "1. Read, complete, and run the code.\n",
        "\n",
        "2. **Make substantial improvements** to maximize the accurcy.\n",
        "    \n",
        "3. Convert the .IPYNB file to .HTML file.\n",
        "\n",
        "    * The HTML file must contain the code and the output after execution.\n",
        "    \n",
        "    * Missing **the output after execution** will not be graded.\n",
        "    \n",
        "4. Upload this .HTML file to your Google Drive, Dropbox, or Github repo. (If you submit the file to Google Drive or Dropbox, you must make the file \"open-access\". The delay caused by \"deny of access\" may result in late penalty.)\n",
        "\n",
        "4. Submit the link to this .HTML file to Canvas.\n",
        "\n",
        "    * Example: https://github.com/wangshusen/CS583-2020S/blob/master/homework/HM4/HM4.html\n",
        "\n",
        "\n",
        "## Requirements:\n",
        "\n",
        "1. You can use whatever CNN architecture, including VGG, Inception, and ResNet. However, you must build the networks layer by layer. You must NOT import the archetectures from ```keras.applications```.\n",
        "\n",
        "2. Make sure ```BatchNormalization``` is between a ```Conv```/```Dense``` layer and an ```activation``` layer.\n",
        "\n",
        "3. If you want to regularize a ```Conv```/```Dense``` layer, you should place a ```Dropout``` layer **before** the ```Conv```/```Dense``` layer.\n",
        "\n",
        "4. An accuracy above 70% is considered reasonable. An accuracy above 80% is considered good. Without data augmentation, achieving 80% accuracy is difficult.\n",
        "\n",
        "\n",
        "## Google Colab\n",
        "\n",
        "- If you do not have GPU, the training of a CNN can be slow. Google Colab is a good option.\n",
        "\n",
        "- Keep in mind that you must download it as an IPYNB file and then use IPython Notebook to convert it to HTML.\n",
        "\n",
        "- Also keep in mind that the IPYNB and HTML files must contain the outputs. (Otherwise, the instructor will not be able to know the correctness and performance.) Do the followings to keep the outputs.\n",
        "\n",
        "- In Colab, go to ```Runtime``` --> ```Change runtime type``` --> Do NOT check ```Omit code cell output when saving this notebook```. In this way, the downloaded IPYNB file contains the outputs."
      ]
    },
    {
      "cell_type": "markdown",
      "metadata": {
        "id": "-wRisqMp1-xh",
        "colab_type": "text"
      },
      "source": [
        "## 1. Data preparation"
      ]
    },
    {
      "cell_type": "markdown",
      "metadata": {
        "id": "s9gLX6iW1-xj",
        "colab_type": "text"
      },
      "source": [
        "### 1.1. Load data\n"
      ]
    },
    {
      "cell_type": "code",
      "metadata": {
        "id": "4jaYio6_1-xn",
        "colab_type": "code",
        "colab": {
          "base_uri": "https://localhost:8080/",
          "height": 102
        },
        "outputId": "edd3c041-9d05-49fe-8c26-802b48aa093e"
      },
      "source": [
        "from keras.datasets import cifar10\n",
        "import numpy as np\n",
        "\n",
        "(x_train, y_train), (x_test, y_test) = cifar10.load_data()\n",
        "\n",
        "print('shape of x_train: ' + str(x_train.shape))\n",
        "print('shape of y_train: ' + str(y_train.shape))\n",
        "print('shape of x_test: ' + str(x_test.shape))\n",
        "print('shape of y_test: ' + str(y_test.shape))\n",
        "print('number of classes: ' + str(np.max(y_train) - np.min(y_train) + 1))"
      ],
      "execution_count": 46,
      "outputs": [
        {
          "output_type": "stream",
          "text": [
            "shape of x_train: (50000, 32, 32, 3)\n",
            "shape of y_train: (50000, 1)\n",
            "shape of x_test: (10000, 32, 32, 3)\n",
            "shape of y_test: (10000, 1)\n",
            "number of classes: 10\n"
          ],
          "name": "stdout"
        }
      ]
    },
    {
      "cell_type": "markdown",
      "metadata": {
        "id": "8ICYypKY1-xu",
        "colab_type": "text"
      },
      "source": [
        "### 1.2. One-hot encode the labels\n",
        "\n",
        "In the input, a label is a scalar in $\\{0, 1, \\cdots , 9\\}$. One-hot encode transform such a scalar to a $10$-dim vector. E.g., a scalar ```y_train[j]=3``` is transformed to the vector ```y_train_vec[j]=[0, 0, 0, 1, 0, 0, 0, 0, 0, 0]```.\n",
        "\n",
        "1. Define a function ```to_one_hot``` that transforms an $n\\times 1$ array to a $n\\times 10$ matrix.\n",
        "\n",
        "2. Apply the function to ```y_train``` and ```y_test```."
      ]
    },
    {
      "cell_type": "code",
      "metadata": {
        "id": "5V-OsupA1-x0",
        "colab_type": "code",
        "colab": {
          "base_uri": "https://localhost:8080/",
          "height": 85
        },
        "outputId": "f024d521-34e4-4008-c537-ebcdc5856ce5"
      },
      "source": [
        "def to_one_hot(y, num_class=10):\n",
        "    results = np.zeros((len(y),num_class))\n",
        "    for i, label in enumerate(y):\n",
        "      results[i,label] = 1.\n",
        "    return results\n",
        "\n",
        "y_train_vec = to_one_hot(y_train)\n",
        "y_test_vec = to_one_hot(y_test)\n",
        "\n",
        "print('Shape of y_train_vec: ' + str(y_train_vec.shape))\n",
        "print('Shape of y_test_vec: ' + str(y_test_vec.shape))\n",
        "\n",
        "print(y_train[0])\n",
        "print(y_train_vec[0])"
      ],
      "execution_count": 47,
      "outputs": [
        {
          "output_type": "stream",
          "text": [
            "Shape of y_train_vec: (50000, 10)\n",
            "Shape of y_test_vec: (10000, 10)\n",
            "[6]\n",
            "[0. 0. 0. 0. 0. 0. 1. 0. 0. 0.]\n"
          ],
          "name": "stdout"
        }
      ]
    },
    {
      "cell_type": "markdown",
      "metadata": {
        "id": "vujdR8071-yC",
        "colab_type": "text"
      },
      "source": [
        "#### Remark: the outputs should be\n",
        "* Shape of y_train_vec: (50000, 10)\n",
        "* Shape of y_test_vec: (10000, 10)\n",
        "* [6]\n",
        "* [0. 0. 0. 0. 0. 0. 1. 0. 0. 0.]"
      ]
    },
    {
      "cell_type": "markdown",
      "metadata": {
        "id": "rFVe6Ucz1-yE",
        "colab_type": "text"
      },
      "source": [
        "### 1.3. Randomly partition the training set to training and validation sets\n",
        "\n",
        "Randomly partition the 50K training samples to 2 sets:\n",
        "* a training set containing 40K samples\n",
        "* a validation set containing 10K samples\n"
      ]
    },
    {
      "cell_type": "code",
      "metadata": {
        "id": "WCcEFB7B1-yF",
        "colab_type": "code",
        "colab": {
          "base_uri": "https://localhost:8080/",
          "height": 85
        },
        "outputId": "8189e04d-1f53-4eb1-833c-ae92d3f51164"
      },
      "source": [
        "rand_indices = np.random.permutation(50000)\n",
        "train_indices = rand_indices[0:40000]\n",
        "valid_indices = rand_indices[40000:50000]\n",
        "\n",
        "x_val = x_train[valid_indices, :]\n",
        "y_val = y_train_vec[valid_indices, :]\n",
        "\n",
        "x_tr = x_train[train_indices, :]\n",
        "y_tr = y_train_vec[train_indices, :]\n",
        "\n",
        "print('Shape of x_tr: ' + str(x_tr.shape))\n",
        "print('Shape of y_tr: ' + str(y_tr.shape))\n",
        "print('Shape of x_val: ' + str(x_val.shape))\n",
        "print('Shape of y_val: ' + str(y_val.shape))"
      ],
      "execution_count": 48,
      "outputs": [
        {
          "output_type": "stream",
          "text": [
            "Shape of x_tr: (40000, 32, 32, 3)\n",
            "Shape of y_tr: (40000, 10)\n",
            "Shape of x_val: (10000, 32, 32, 3)\n",
            "Shape of y_val: (10000, 10)\n"
          ],
          "name": "stdout"
        }
      ]
    },
    {
      "cell_type": "markdown",
      "metadata": {
        "id": "3JD7espR1-yU",
        "colab_type": "text"
      },
      "source": [
        "## 2. Build a CNN and tune its hyper-parameters\n",
        "\n",
        "1. Build a convolutional neural network model\n",
        "2. Use the validation data to tune the hyper-parameters (e.g., network structure, and optimization algorithm)\n",
        "    * Do NOT use test data for hyper-parameter tuning!!!\n",
        "3. Try to achieve a validation accuracy as high as possible."
      ]
    },
    {
      "cell_type": "markdown",
      "metadata": {
        "id": "qRZMXYWw1-yW",
        "colab_type": "text"
      },
      "source": [
        "### Remark: \n",
        "\n",
        "The following CNN is just an example. You are supposed to make **substantial improvements** such as:\n",
        "* Add more layers.\n",
        "* Use regularizations, e.g., dropout.\n",
        "* Use batch normalization."
      ]
    },
    {
      "cell_type": "code",
      "metadata": {
        "id": "LwaLjf0b1-yX",
        "colab_type": "code",
        "colab": {
          "base_uri": "https://localhost:8080/",
          "height": 1000
        },
        "outputId": "adeaf56e-073a-48a7-c08d-8fe4c6db4bf3"
      },
      "source": [
        "from keras.layers import Conv2D, MaxPooling2D, Flatten, Dense, Dropout, BatchNormalization, Activation\n",
        "from keras.models import Sequential\n",
        "\n",
        "model = Sequential()\n",
        "model.add(Conv2D(32, (3, 3), padding='same', input_shape=(32, 32, 3)))\n",
        "model.add(BatchNormalization())\n",
        "model.add(Activation('relu'))\n",
        "model.add(Conv2D(32, (3, 3), padding='same'))\n",
        "model.add(BatchNormalization())\n",
        "model.add(Activation('relu'))\n",
        "model.add(MaxPooling2D((2, 2)))\n",
        "\n",
        "model.add(Dropout(0.3))\n",
        "model.add(Conv2D(64, (3, 3), padding='same'))\n",
        "model.add(BatchNormalization())\n",
        "model.add(Activation('relu'))\n",
        "model.add(Conv2D(64, (3, 3), padding='same'))\n",
        "model.add(BatchNormalization())\n",
        "model.add(Activation('relu'))\n",
        "model.add(MaxPooling2D((2, 2)))\n",
        "\n",
        "model.add(Dropout(0.4))\n",
        "model.add(Conv2D(128, (3, 3), padding='same')) \n",
        "model.add(BatchNormalization())\n",
        "model.add(Activation('relu'))\n",
        "model.add(Conv2D(128, (3, 3), padding='same')) \n",
        "model.add(BatchNormalization())\n",
        "model.add(Activation('relu'))\n",
        "model.add(MaxPooling2D((2, 2)))\n",
        "model.add(Flatten())\n",
        "\n",
        "model.add(Dropout(0.5))\n",
        "model.add(Dense(128))\n",
        "model.add(BatchNormalization())\n",
        "model.add(Activation('relu'))\n",
        "model.add(Dense(10, activation='softmax'))\n",
        "\n",
        "model.summary()"
      ],
      "execution_count": 49,
      "outputs": [
        {
          "output_type": "stream",
          "text": [
            "Model: \"sequential_5\"\n",
            "_________________________________________________________________\n",
            "Layer (type)                 Output Shape              Param #   \n",
            "=================================================================\n",
            "conv2d_25 (Conv2D)           (None, 32, 32, 32)        896       \n",
            "_________________________________________________________________\n",
            "batch_normalization_29 (Batc (None, 32, 32, 32)        128       \n",
            "_________________________________________________________________\n",
            "activation_29 (Activation)   (None, 32, 32, 32)        0         \n",
            "_________________________________________________________________\n",
            "conv2d_26 (Conv2D)           (None, 32, 32, 32)        9248      \n",
            "_________________________________________________________________\n",
            "batch_normalization_30 (Batc (None, 32, 32, 32)        128       \n",
            "_________________________________________________________________\n",
            "activation_30 (Activation)   (None, 32, 32, 32)        0         \n",
            "_________________________________________________________________\n",
            "max_pooling2d_13 (MaxPooling (None, 16, 16, 32)        0         \n",
            "_________________________________________________________________\n",
            "dropout_13 (Dropout)         (None, 16, 16, 32)        0         \n",
            "_________________________________________________________________\n",
            "conv2d_27 (Conv2D)           (None, 16, 16, 64)        18496     \n",
            "_________________________________________________________________\n",
            "batch_normalization_31 (Batc (None, 16, 16, 64)        256       \n",
            "_________________________________________________________________\n",
            "activation_31 (Activation)   (None, 16, 16, 64)        0         \n",
            "_________________________________________________________________\n",
            "conv2d_28 (Conv2D)           (None, 16, 16, 64)        36928     \n",
            "_________________________________________________________________\n",
            "batch_normalization_32 (Batc (None, 16, 16, 64)        256       \n",
            "_________________________________________________________________\n",
            "activation_32 (Activation)   (None, 16, 16, 64)        0         \n",
            "_________________________________________________________________\n",
            "max_pooling2d_14 (MaxPooling (None, 8, 8, 64)          0         \n",
            "_________________________________________________________________\n",
            "dropout_14 (Dropout)         (None, 8, 8, 64)          0         \n",
            "_________________________________________________________________\n",
            "conv2d_29 (Conv2D)           (None, 8, 8, 128)         73856     \n",
            "_________________________________________________________________\n",
            "batch_normalization_33 (Batc (None, 8, 8, 128)         512       \n",
            "_________________________________________________________________\n",
            "activation_33 (Activation)   (None, 8, 8, 128)         0         \n",
            "_________________________________________________________________\n",
            "conv2d_30 (Conv2D)           (None, 8, 8, 128)         147584    \n",
            "_________________________________________________________________\n",
            "batch_normalization_34 (Batc (None, 8, 8, 128)         512       \n",
            "_________________________________________________________________\n",
            "activation_34 (Activation)   (None, 8, 8, 128)         0         \n",
            "_________________________________________________________________\n",
            "max_pooling2d_15 (MaxPooling (None, 4, 4, 128)         0         \n",
            "_________________________________________________________________\n",
            "flatten_5 (Flatten)          (None, 2048)              0         \n",
            "_________________________________________________________________\n",
            "dropout_15 (Dropout)         (None, 2048)              0         \n",
            "_________________________________________________________________\n",
            "dense_9 (Dense)              (None, 128)               262272    \n",
            "_________________________________________________________________\n",
            "batch_normalization_35 (Batc (None, 128)               512       \n",
            "_________________________________________________________________\n",
            "activation_35 (Activation)   (None, 128)               0         \n",
            "_________________________________________________________________\n",
            "dense_10 (Dense)             (None, 10)                1290      \n",
            "=================================================================\n",
            "Total params: 552,874\n",
            "Trainable params: 551,722\n",
            "Non-trainable params: 1,152\n",
            "_________________________________________________________________\n"
          ],
          "name": "stdout"
        }
      ]
    },
    {
      "cell_type": "code",
      "metadata": {
        "id": "7jqUDGn_1-yc",
        "colab_type": "code",
        "colab": {}
      },
      "source": [
        "from keras import optimizers\n",
        "#hyper parameters\n",
        "learning_rate = 1E-3 \n",
        "batch_size = 64\n",
        "\n",
        "model.compile(loss='categorical_crossentropy',\n",
        "              optimizer=optimizers.RMSprop(lr=learning_rate),\n",
        "              metrics=['acc'])"
      ],
      "execution_count": 0,
      "outputs": []
    },
    {
      "cell_type": "code",
      "metadata": {
        "id": "XieqTTts5gev",
        "colab_type": "code",
        "colab": {}
      },
      "source": [
        "from keras.preprocessing.image import ImageDataGenerator\n",
        "#data augmentation\n",
        "train_datagen = ImageDataGenerator(\n",
        "\t\trotation_range=15,\n",
        "\t\twidth_shift_range=0.1,\n",
        "\t\theight_shift_range=0.1,\n",
        "\t\thorizontal_flip=True,)\n",
        "train_datagen.fit(x_tr)\n",
        "train_generator = train_datagen.flow(x_tr, y_tr, batch_size)"
      ],
      "execution_count": 0,
      "outputs": []
    },
    {
      "cell_type": "code",
      "metadata": {
        "id": "C8bVXfKo1-yj",
        "colab_type": "code",
        "colab": {
          "base_uri": "https://localhost:8080/",
          "height": 1000
        },
        "outputId": "d9b640c4-a627-43bd-b72e-08162ebda1cd"
      },
      "source": [
        "# fit model\n",
        "# history = model.fit(x_tr, y_tr, batch_size=32, epochs=35, validation_data=(x_val, y_val))\n",
        "steps= int(x_tr.shape[0] / batch_size)\n",
        "history = model.fit_generator(train_generator, steps_per_epoch = steps, epochs = 100, validation_data=(x_val, y_val))"
      ],
      "execution_count": 52,
      "outputs": [
        {
          "output_type": "stream",
          "text": [
            "Epoch 1/100\n",
            "625/625 [==============================] - 25s 40ms/step - loss: 1.5369 - acc: 0.4392 - val_loss: 1.3185 - val_acc: 0.5462\n",
            "Epoch 2/100\n",
            "625/625 [==============================] - 22s 36ms/step - loss: 1.1880 - acc: 0.5714 - val_loss: 1.1319 - val_acc: 0.6145\n",
            "Epoch 3/100\n",
            "625/625 [==============================] - 22s 36ms/step - loss: 1.0519 - acc: 0.6266 - val_loss: 1.2015 - val_acc: 0.6137\n",
            "Epoch 4/100\n",
            "625/625 [==============================] - 22s 35ms/step - loss: 0.9672 - acc: 0.6576 - val_loss: 2.1787 - val_acc: 0.3955\n",
            "Epoch 5/100\n",
            "625/625 [==============================] - 22s 35ms/step - loss: 0.9094 - acc: 0.6779 - val_loss: 0.9128 - val_acc: 0.6848\n",
            "Epoch 6/100\n",
            "625/625 [==============================] - 22s 36ms/step - loss: 0.8607 - acc: 0.6973 - val_loss: 0.8369 - val_acc: 0.7129\n",
            "Epoch 7/100\n",
            "625/625 [==============================] - 22s 35ms/step - loss: 0.8264 - acc: 0.7097 - val_loss: 0.9020 - val_acc: 0.7082\n",
            "Epoch 8/100\n",
            "625/625 [==============================] - 22s 35ms/step - loss: 0.7988 - acc: 0.7217 - val_loss: 0.8259 - val_acc: 0.7230\n",
            "Epoch 9/100\n",
            "625/625 [==============================] - 22s 35ms/step - loss: 0.7753 - acc: 0.7288 - val_loss: 0.8385 - val_acc: 0.7076\n",
            "Epoch 10/100\n",
            "625/625 [==============================] - 22s 35ms/step - loss: 0.7501 - acc: 0.7404 - val_loss: 0.7501 - val_acc: 0.7468\n",
            "Epoch 11/100\n",
            "625/625 [==============================] - 22s 35ms/step - loss: 0.7355 - acc: 0.7419 - val_loss: 0.7319 - val_acc: 0.7502\n",
            "Epoch 12/100\n",
            "625/625 [==============================] - 22s 35ms/step - loss: 0.7176 - acc: 0.7499 - val_loss: 0.7859 - val_acc: 0.7429\n",
            "Epoch 13/100\n",
            "625/625 [==============================] - 22s 35ms/step - loss: 0.6964 - acc: 0.7592 - val_loss: 0.8463 - val_acc: 0.7147\n",
            "Epoch 14/100\n",
            "625/625 [==============================] - 22s 35ms/step - loss: 0.6926 - acc: 0.7637 - val_loss: 0.8393 - val_acc: 0.7241\n",
            "Epoch 15/100\n",
            "625/625 [==============================] - 22s 35ms/step - loss: 0.6758 - acc: 0.7653 - val_loss: 0.7331 - val_acc: 0.7630\n",
            "Epoch 16/100\n",
            "625/625 [==============================] - 22s 35ms/step - loss: 0.6629 - acc: 0.7719 - val_loss: 0.8320 - val_acc: 0.7391\n",
            "Epoch 17/100\n",
            "625/625 [==============================] - 22s 35ms/step - loss: 0.6499 - acc: 0.7749 - val_loss: 0.6204 - val_acc: 0.7959\n",
            "Epoch 18/100\n",
            "625/625 [==============================] - 22s 35ms/step - loss: 0.6459 - acc: 0.7775 - val_loss: 0.7458 - val_acc: 0.7513\n",
            "Epoch 19/100\n",
            "625/625 [==============================] - 22s 35ms/step - loss: 0.6332 - acc: 0.7835 - val_loss: 0.6175 - val_acc: 0.7945\n",
            "Epoch 20/100\n",
            "625/625 [==============================] - 22s 35ms/step - loss: 0.6222 - acc: 0.7861 - val_loss: 0.5385 - val_acc: 0.8126\n",
            "Epoch 21/100\n",
            "625/625 [==============================] - 22s 36ms/step - loss: 0.6212 - acc: 0.7877 - val_loss: 0.7151 - val_acc: 0.7614\n",
            "Epoch 22/100\n",
            "625/625 [==============================] - 22s 35ms/step - loss: 0.6095 - acc: 0.7911 - val_loss: 0.6591 - val_acc: 0.7926\n",
            "Epoch 23/100\n",
            "625/625 [==============================] - 22s 35ms/step - loss: 0.6037 - acc: 0.7930 - val_loss: 0.5599 - val_acc: 0.8076\n",
            "Epoch 24/100\n",
            "625/625 [==============================] - 22s 35ms/step - loss: 0.6020 - acc: 0.7938 - val_loss: 0.5473 - val_acc: 0.8178\n",
            "Epoch 25/100\n",
            "625/625 [==============================] - 22s 35ms/step - loss: 0.5956 - acc: 0.7945 - val_loss: 0.6010 - val_acc: 0.8038\n",
            "Epoch 26/100\n",
            "625/625 [==============================] - 22s 35ms/step - loss: 0.5785 - acc: 0.8023 - val_loss: 0.5225 - val_acc: 0.8302\n",
            "Epoch 27/100\n",
            "625/625 [==============================] - 22s 35ms/step - loss: 0.5816 - acc: 0.8006 - val_loss: 0.5731 - val_acc: 0.8117\n",
            "Epoch 28/100\n",
            "625/625 [==============================] - 22s 35ms/step - loss: 0.5801 - acc: 0.8007 - val_loss: 0.5889 - val_acc: 0.8095\n",
            "Epoch 29/100\n",
            "625/625 [==============================] - 22s 35ms/step - loss: 0.5705 - acc: 0.8042 - val_loss: 0.5393 - val_acc: 0.8256\n",
            "Epoch 30/100\n",
            "625/625 [==============================] - 22s 35ms/step - loss: 0.5629 - acc: 0.8075 - val_loss: 0.6887 - val_acc: 0.7830\n",
            "Epoch 31/100\n",
            "625/625 [==============================] - 22s 35ms/step - loss: 0.5644 - acc: 0.8071 - val_loss: 0.6219 - val_acc: 0.8030\n",
            "Epoch 32/100\n",
            "625/625 [==============================] - 22s 35ms/step - loss: 0.5598 - acc: 0.8098 - val_loss: 0.4898 - val_acc: 0.8410\n",
            "Epoch 33/100\n",
            "625/625 [==============================] - 22s 35ms/step - loss: 0.5511 - acc: 0.8105 - val_loss: 0.5789 - val_acc: 0.8065\n",
            "Epoch 34/100\n",
            "625/625 [==============================] - 22s 35ms/step - loss: 0.5430 - acc: 0.8125 - val_loss: 0.7193 - val_acc: 0.7826\n",
            "Epoch 35/100\n",
            "625/625 [==============================] - 22s 36ms/step - loss: 0.5452 - acc: 0.8132 - val_loss: 0.5601 - val_acc: 0.8170\n",
            "Epoch 36/100\n",
            "625/625 [==============================] - 22s 36ms/step - loss: 0.5410 - acc: 0.8146 - val_loss: 0.5959 - val_acc: 0.8064\n",
            "Epoch 37/100\n",
            "625/625 [==============================] - 22s 36ms/step - loss: 0.5413 - acc: 0.8154 - val_loss: 0.5107 - val_acc: 0.8265\n",
            "Epoch 38/100\n",
            "625/625 [==============================] - 23s 36ms/step - loss: 0.5356 - acc: 0.8166 - val_loss: 0.4771 - val_acc: 0.8347\n",
            "Epoch 39/100\n",
            "625/625 [==============================] - 22s 36ms/step - loss: 0.5345 - acc: 0.8185 - val_loss: 0.4495 - val_acc: 0.8501\n",
            "Epoch 40/100\n",
            "625/625 [==============================] - 22s 36ms/step - loss: 0.5290 - acc: 0.8194 - val_loss: 0.5464 - val_acc: 0.8270\n",
            "Epoch 41/100\n",
            "625/625 [==============================] - 22s 36ms/step - loss: 0.5186 - acc: 0.8219 - val_loss: 0.5537 - val_acc: 0.8235\n",
            "Epoch 42/100\n",
            "625/625 [==============================] - 22s 36ms/step - loss: 0.5185 - acc: 0.8229 - val_loss: 0.6756 - val_acc: 0.7959\n",
            "Epoch 43/100\n",
            "625/625 [==============================] - 22s 36ms/step - loss: 0.5164 - acc: 0.8237 - val_loss: 0.6399 - val_acc: 0.7957\n",
            "Epoch 44/100\n",
            "625/625 [==============================] - 22s 36ms/step - loss: 0.5162 - acc: 0.8211 - val_loss: 0.5079 - val_acc: 0.8316\n",
            "Epoch 45/100\n",
            "625/625 [==============================] - 23s 36ms/step - loss: 0.5097 - acc: 0.8234 - val_loss: 0.5304 - val_acc: 0.8275\n",
            "Epoch 46/100\n",
            "625/625 [==============================] - 23s 36ms/step - loss: 0.5113 - acc: 0.8246 - val_loss: 0.5565 - val_acc: 0.8259\n",
            "Epoch 47/100\n",
            "625/625 [==============================] - 22s 35ms/step - loss: 0.5072 - acc: 0.8283 - val_loss: 0.6813 - val_acc: 0.7913\n",
            "Epoch 48/100\n",
            "625/625 [==============================] - 22s 35ms/step - loss: 0.5054 - acc: 0.8296 - val_loss: 0.4957 - val_acc: 0.8445\n",
            "Epoch 49/100\n",
            "625/625 [==============================] - 22s 36ms/step - loss: 0.5056 - acc: 0.8253 - val_loss: 0.6352 - val_acc: 0.8074\n",
            "Epoch 50/100\n",
            "625/625 [==============================] - 22s 36ms/step - loss: 0.5033 - acc: 0.8283 - val_loss: 0.7754 - val_acc: 0.7683\n",
            "Epoch 51/100\n",
            "625/625 [==============================] - 22s 35ms/step - loss: 0.5026 - acc: 0.8284 - val_loss: 0.5884 - val_acc: 0.8128\n",
            "Epoch 52/100\n",
            "625/625 [==============================] - 22s 35ms/step - loss: 0.4989 - acc: 0.8283 - val_loss: 0.6761 - val_acc: 0.7848\n",
            "Epoch 53/100\n",
            "625/625 [==============================] - 22s 36ms/step - loss: 0.5001 - acc: 0.8298 - val_loss: 0.6861 - val_acc: 0.7860\n",
            "Epoch 54/100\n",
            "625/625 [==============================] - 22s 36ms/step - loss: 0.4911 - acc: 0.8308 - val_loss: 0.5512 - val_acc: 0.8239\n",
            "Epoch 55/100\n",
            "625/625 [==============================] - 22s 35ms/step - loss: 0.4932 - acc: 0.8305 - val_loss: 0.5126 - val_acc: 0.8345\n",
            "Epoch 56/100\n",
            "625/625 [==============================] - 22s 35ms/step - loss: 0.4910 - acc: 0.8306 - val_loss: 0.4391 - val_acc: 0.8552\n",
            "Epoch 57/100\n",
            "625/625 [==============================] - 22s 35ms/step - loss: 0.4853 - acc: 0.8332 - val_loss: 0.5665 - val_acc: 0.8206\n",
            "Epoch 58/100\n",
            "625/625 [==============================] - 22s 35ms/step - loss: 0.4868 - acc: 0.8328 - val_loss: 0.5600 - val_acc: 0.8194\n",
            "Epoch 59/100\n",
            "625/625 [==============================] - 22s 35ms/step - loss: 0.4872 - acc: 0.8332 - val_loss: 0.4525 - val_acc: 0.8512\n",
            "Epoch 60/100\n",
            "625/625 [==============================] - 22s 35ms/step - loss: 0.4813 - acc: 0.8356 - val_loss: 0.5606 - val_acc: 0.8213\n",
            "Epoch 61/100\n",
            "625/625 [==============================] - 22s 36ms/step - loss: 0.4807 - acc: 0.8341 - val_loss: 0.4961 - val_acc: 0.8357\n",
            "Epoch 62/100\n",
            "625/625 [==============================] - 22s 35ms/step - loss: 0.4807 - acc: 0.8351 - val_loss: 0.4633 - val_acc: 0.8503\n",
            "Epoch 63/100\n",
            "625/625 [==============================] - 22s 36ms/step - loss: 0.4769 - acc: 0.8371 - val_loss: 0.4437 - val_acc: 0.8553\n",
            "Epoch 64/100\n",
            "625/625 [==============================] - 22s 36ms/step - loss: 0.4743 - acc: 0.8377 - val_loss: 0.4342 - val_acc: 0.8570\n",
            "Epoch 65/100\n",
            "625/625 [==============================] - 22s 35ms/step - loss: 0.4731 - acc: 0.8389 - val_loss: 0.4745 - val_acc: 0.8469\n",
            "Epoch 66/100\n",
            "625/625 [==============================] - 22s 35ms/step - loss: 0.4707 - acc: 0.8375 - val_loss: 0.4933 - val_acc: 0.8455\n",
            "Epoch 67/100\n",
            "625/625 [==============================] - 22s 35ms/step - loss: 0.4650 - acc: 0.8393 - val_loss: 0.5737 - val_acc: 0.8227\n",
            "Epoch 68/100\n",
            "625/625 [==============================] - 22s 36ms/step - loss: 0.4680 - acc: 0.8408 - val_loss: 0.4546 - val_acc: 0.8517\n",
            "Epoch 69/100\n",
            "625/625 [==============================] - 22s 35ms/step - loss: 0.4676 - acc: 0.8378 - val_loss: 0.4576 - val_acc: 0.8524\n",
            "Epoch 70/100\n",
            "625/625 [==============================] - 22s 36ms/step - loss: 0.4616 - acc: 0.8417 - val_loss: 0.5278 - val_acc: 0.8335\n",
            "Epoch 71/100\n",
            "625/625 [==============================] - 22s 35ms/step - loss: 0.4647 - acc: 0.8393 - val_loss: 0.4878 - val_acc: 0.8431\n",
            "Epoch 72/100\n",
            "625/625 [==============================] - 22s 35ms/step - loss: 0.4604 - acc: 0.8413 - val_loss: 0.4958 - val_acc: 0.8428\n",
            "Epoch 73/100\n",
            "625/625 [==============================] - 22s 35ms/step - loss: 0.4591 - acc: 0.8423 - val_loss: 0.4864 - val_acc: 0.8436\n",
            "Epoch 74/100\n",
            "625/625 [==============================] - 22s 35ms/step - loss: 0.4554 - acc: 0.8431 - val_loss: 0.4522 - val_acc: 0.8553\n",
            "Epoch 75/100\n",
            "625/625 [==============================] - 22s 35ms/step - loss: 0.4563 - acc: 0.8410 - val_loss: 0.5241 - val_acc: 0.8356\n",
            "Epoch 76/100\n",
            "625/625 [==============================] - 22s 35ms/step - loss: 0.4594 - acc: 0.8414 - val_loss: 0.5516 - val_acc: 0.8273\n",
            "Epoch 77/100\n",
            "625/625 [==============================] - 22s 35ms/step - loss: 0.4510 - acc: 0.8428 - val_loss: 0.4449 - val_acc: 0.8542\n",
            "Epoch 78/100\n",
            "625/625 [==============================] - 22s 35ms/step - loss: 0.4535 - acc: 0.8448 - val_loss: 0.4288 - val_acc: 0.8619\n",
            "Epoch 79/100\n",
            "625/625 [==============================] - 22s 35ms/step - loss: 0.4550 - acc: 0.8416 - val_loss: 0.5054 - val_acc: 0.8356\n",
            "Epoch 80/100\n",
            "625/625 [==============================] - 22s 35ms/step - loss: 0.4504 - acc: 0.8442 - val_loss: 0.5022 - val_acc: 0.8502\n",
            "Epoch 81/100\n",
            "625/625 [==============================] - 22s 35ms/step - loss: 0.4547 - acc: 0.8439 - val_loss: 0.5441 - val_acc: 0.8377\n",
            "Epoch 82/100\n",
            "625/625 [==============================] - 25s 39ms/step - loss: 0.4465 - acc: 0.8447 - val_loss: 0.4674 - val_acc: 0.8508\n",
            "Epoch 83/100\n",
            "625/625 [==============================] - 22s 36ms/step - loss: 0.4431 - acc: 0.8482 - val_loss: 0.5007 - val_acc: 0.8386\n",
            "Epoch 84/100\n",
            "625/625 [==============================] - 22s 35ms/step - loss: 0.4444 - acc: 0.8485 - val_loss: 0.4341 - val_acc: 0.8558\n",
            "Epoch 85/100\n",
            "625/625 [==============================] - 22s 35ms/step - loss: 0.4434 - acc: 0.8501 - val_loss: 0.4184 - val_acc: 0.8630\n",
            "Epoch 86/100\n",
            "625/625 [==============================] - 22s 36ms/step - loss: 0.4396 - acc: 0.8498 - val_loss: 0.4714 - val_acc: 0.8503\n",
            "Epoch 87/100\n",
            "625/625 [==============================] - 22s 36ms/step - loss: 0.4446 - acc: 0.8461 - val_loss: 0.4471 - val_acc: 0.8506\n",
            "Epoch 88/100\n",
            "625/625 [==============================] - 22s 35ms/step - loss: 0.4376 - acc: 0.8483 - val_loss: 0.4421 - val_acc: 0.8541\n",
            "Epoch 89/100\n",
            "625/625 [==============================] - 22s 35ms/step - loss: 0.4354 - acc: 0.8502 - val_loss: 0.5368 - val_acc: 0.8354\n",
            "Epoch 90/100\n",
            "625/625 [==============================] - 22s 35ms/step - loss: 0.4400 - acc: 0.8485 - val_loss: 0.5198 - val_acc: 0.8362\n",
            "Epoch 91/100\n",
            "625/625 [==============================] - 22s 35ms/step - loss: 0.4342 - acc: 0.8527 - val_loss: 0.4228 - val_acc: 0.8619\n",
            "Epoch 92/100\n",
            "625/625 [==============================] - 22s 35ms/step - loss: 0.4345 - acc: 0.8506 - val_loss: 0.4446 - val_acc: 0.8537\n",
            "Epoch 93/100\n",
            "625/625 [==============================] - 22s 35ms/step - loss: 0.4361 - acc: 0.8512 - val_loss: 0.4430 - val_acc: 0.8550\n",
            "Epoch 94/100\n",
            "625/625 [==============================] - 22s 35ms/step - loss: 0.4298 - acc: 0.8533 - val_loss: 0.4859 - val_acc: 0.8468\n",
            "Epoch 95/100\n",
            "625/625 [==============================] - 22s 35ms/step - loss: 0.4341 - acc: 0.8524 - val_loss: 0.4480 - val_acc: 0.8543\n",
            "Epoch 96/100\n",
            "625/625 [==============================] - 22s 35ms/step - loss: 0.4327 - acc: 0.8522 - val_loss: 0.5106 - val_acc: 0.8378\n",
            "Epoch 97/100\n",
            "625/625 [==============================] - 22s 36ms/step - loss: 0.4317 - acc: 0.8513 - val_loss: 0.4996 - val_acc: 0.8451\n",
            "Epoch 98/100\n",
            "625/625 [==============================] - 22s 35ms/step - loss: 0.4343 - acc: 0.8530 - val_loss: 0.4204 - val_acc: 0.8570\n",
            "Epoch 99/100\n",
            "625/625 [==============================] - 22s 35ms/step - loss: 0.4276 - acc: 0.8530 - val_loss: 0.4816 - val_acc: 0.8452\n",
            "Epoch 100/100\n",
            "625/625 [==============================] - 22s 35ms/step - loss: 0.4304 - acc: 0.8537 - val_loss: 0.4306 - val_acc: 0.8579\n"
          ],
          "name": "stdout"
        }
      ]
    },
    {
      "cell_type": "code",
      "metadata": {
        "id": "L4P9CEiq1-yp",
        "colab_type": "code",
        "colab": {
          "base_uri": "https://localhost:8080/",
          "height": 573
        },
        "outputId": "058e5043-94f2-4da5-b5ba-359cc7e92157"
      },
      "source": [
        "import matplotlib.pyplot as plt\n",
        "%matplotlib inline\n",
        "\n",
        "acc = history.history['acc']\n",
        "val_acc = history.history['val_acc']\n",
        "\n",
        "loss = history.history['loss']\n",
        "val_loss= history.history['val_loss']\n",
        "\n",
        "epochs = range(len(acc))\n",
        "\n",
        "plt.title('Accuracy')\n",
        "plt.plot(epochs, acc, 'bo', label='Training acc')\n",
        "plt.plot(epochs, val_acc, 'r', label='Validation acc')\n",
        "plt.xlabel('Epochs')\n",
        "plt.ylabel('Accuracy')\n",
        "plt.legend()\n",
        "plt.show()\n",
        "\n",
        "\n",
        "plt.title('Cross Entropy Loss')\n",
        "plt.plot(epochs, loss, 'bo', label='Training loss')\n",
        "plt.plot(epochs, val_loss, 'r', label='Validation loss')\n",
        "plt.xlabel('Epochs')\n",
        "plt.ylabel('Loss')\n",
        "plt.legend()\n",
        "plt.show()"
      ],
      "execution_count": 53,
      "outputs": [
        {
          "output_type": "display_data",
          "data": {
            "image/png": "[encoded data removed]",
            "text/plain": [
              "<Figure size 432x288 with 1 Axes>"
            ]
          },
          "metadata": {
            "tags": []
          }
        },
        {
          "output_type": "display_data",
          "data": {
            "image/png": "[encoded data removed]",
            "text/plain": [
              "<Figure size 432x288 with 1 Axes>"
            ]
          },
          "metadata": {
            "tags": []
          }
        }
      ]
    },
    {
      "cell_type": "markdown",
      "metadata": {
        "id": "JYWlgdCo1-yr",
        "colab_type": "text"
      },
      "source": [
        "## 3. Train (again) and evaluate the model\n",
        "\n",
        "- To this end, you have found the \"best\" hyper-parameters. \n",
        "- Now, fix the hyper-parameters and train the network on the entire training set (all the 50K training samples)\n",
        "- Evaluate your model on the test set."
      ]
    },
    {
      "cell_type": "markdown",
      "metadata": {
        "id": "EZ84IEZu1-yu",
        "colab_type": "text"
      },
      "source": [
        "### 3.1. Train the model on the entire training set\n",
        "\n",
        "Why? Previously, you used 40K samples for training; you wasted 10K samples for the sake of hyper-parameter tuning. Now you already know the hyper-parameters, so why not using all the 50K samples for training?"
      ]
    },
    {
      "cell_type": "code",
      "metadata": {
        "id": "-lfwM24n1-yv",
        "colab_type": "code",
        "colab": {}
      },
      "source": [
        "#<Compile your model again (using the same hyper-parameters)>\n",
        "#hyper parameters\n",
        "learning_rate = 1E-3 \n",
        "batch_size = 64\n",
        "model.compile(loss='categorical_crossentropy',\n",
        "              optimizer=optimizers.RMSprop(lr=learning_rate),\n",
        "              metrics=['acc'])"
      ],
      "execution_count": 0,
      "outputs": []
    },
    {
      "cell_type": "code",
      "metadata": {
        "id": "Pb0h2sFG1-yy",
        "colab_type": "code",
        "colab": {
          "base_uri": "https://localhost:8080/",
          "height": 1000
        },
        "outputId": "6af9c0d8-f622-47d7-c08b-d9ee334db9b0"
      },
      "source": [
        "#<Train your model on the entire training set (50K samples)>\n",
        "#<Use (x_train, y_train_vec) instead of (x_tr, y_tr)>\n",
        "#<Do NOT use the validation_data option (because now you do not have validation data)>\n",
        "train_datagen.fit(x_train)\n",
        "train_generator = train_datagen.flow(x_train, y_train_vec, batch_size)\n",
        "steps= int(x_train.shape[0] / batch_size)\n",
        "history = model.fit_generator(train_generator, steps_per_epoch = steps, epochs = 100)"
      ],
      "execution_count": 55,
      "outputs": [
        {
          "output_type": "stream",
          "text": [
            "Epoch 1/100\n",
            "781/781 [==============================] - 29s 37ms/step - loss: 0.4554 - acc: 0.8452\n",
            "Epoch 2/100\n",
            "781/781 [==============================] - 27s 35ms/step - loss: 0.4466 - acc: 0.8469\n",
            "Epoch 3/100\n",
            "781/781 [==============================] - 27s 35ms/step - loss: 0.4441 - acc: 0.8479\n",
            "Epoch 4/100\n",
            "781/781 [==============================] - 27s 35ms/step - loss: 0.4447 - acc: 0.8487\n",
            "Epoch 5/100\n",
            "781/781 [==============================] - 27s 35ms/step - loss: 0.4397 - acc: 0.8486\n",
            "Epoch 6/100\n",
            "781/781 [==============================] - 27s 35ms/step - loss: 0.4411 - acc: 0.8490\n",
            "Epoch 7/100\n",
            "781/781 [==============================] - 27s 35ms/step - loss: 0.4413 - acc: 0.8487\n",
            "Epoch 8/100\n",
            "781/781 [==============================] - 27s 35ms/step - loss: 0.4389 - acc: 0.8485\n",
            "Epoch 9/100\n",
            "781/781 [==============================] - 27s 35ms/step - loss: 0.4361 - acc: 0.8499\n",
            "Epoch 10/100\n",
            "781/781 [==============================] - 27s 35ms/step - loss: 0.4333 - acc: 0.8510\n",
            "Epoch 11/100\n",
            "781/781 [==============================] - 27s 35ms/step - loss: 0.4380 - acc: 0.8496\n",
            "Epoch 12/100\n",
            "781/781 [==============================] - 27s 35ms/step - loss: 0.4341 - acc: 0.8517\n",
            "Epoch 13/100\n",
            "781/781 [==============================] - 27s 35ms/step - loss: 0.4350 - acc: 0.8510\n",
            "Epoch 14/100\n",
            "781/781 [==============================] - 28s 35ms/step - loss: 0.4336 - acc: 0.8508\n",
            "Epoch 15/100\n",
            "781/781 [==============================] - 28s 35ms/step - loss: 0.4332 - acc: 0.8506\n",
            "Epoch 16/100\n",
            "781/781 [==============================] - 28s 36ms/step - loss: 0.4332 - acc: 0.8512\n",
            "Epoch 17/100\n",
            "781/781 [==============================] - 28s 35ms/step - loss: 0.4304 - acc: 0.8513\n",
            "Epoch 18/100\n",
            "781/781 [==============================] - 28s 36ms/step - loss: 0.4253 - acc: 0.8543\n",
            "Epoch 19/100\n",
            "781/781 [==============================] - 28s 35ms/step - loss: 0.4294 - acc: 0.8535\n",
            "Epoch 20/100\n",
            "781/781 [==============================] - 28s 35ms/step - loss: 0.4254 - acc: 0.8529\n",
            "Epoch 21/100\n",
            "781/781 [==============================] - 28s 36ms/step - loss: 0.4221 - acc: 0.8549\n",
            "Epoch 22/100\n",
            "781/781 [==============================] - 28s 36ms/step - loss: 0.4257 - acc: 0.8546\n",
            "Epoch 23/100\n",
            "781/781 [==============================] - 28s 35ms/step - loss: 0.4204 - acc: 0.8548\n",
            "Epoch 24/100\n",
            "781/781 [==============================] - 28s 35ms/step - loss: 0.4218 - acc: 0.8551\n",
            "Epoch 25/100\n",
            "781/781 [==============================] - 27s 35ms/step - loss: 0.4183 - acc: 0.8583\n",
            "Epoch 26/100\n",
            "781/781 [==============================] - 27s 35ms/step - loss: 0.4171 - acc: 0.8566\n",
            "Epoch 27/100\n",
            "781/781 [==============================] - 27s 35ms/step - loss: 0.4200 - acc: 0.8563\n",
            "Epoch 28/100\n",
            "781/781 [==============================] - 27s 35ms/step - loss: 0.4245 - acc: 0.8549\n",
            "Epoch 29/100\n",
            "781/781 [==============================] - 27s 35ms/step - loss: 0.4148 - acc: 0.8578\n",
            "Epoch 30/100\n",
            "781/781 [==============================] - 27s 35ms/step - loss: 0.4181 - acc: 0.8571\n",
            "Epoch 31/100\n",
            "781/781 [==============================] - 27s 35ms/step - loss: 0.4148 - acc: 0.8574\n",
            "Epoch 32/100\n",
            "781/781 [==============================] - 27s 35ms/step - loss: 0.4189 - acc: 0.8561\n",
            "Epoch 33/100\n",
            "781/781 [==============================] - 27s 35ms/step - loss: 0.4204 - acc: 0.8557\n",
            "Epoch 34/100\n",
            "781/781 [==============================] - 27s 35ms/step - loss: 0.4168 - acc: 0.8586\n",
            "Epoch 35/100\n",
            "781/781 [==============================] - 27s 35ms/step - loss: 0.4116 - acc: 0.8576\n",
            "Epoch 36/100\n",
            "781/781 [==============================] - 27s 35ms/step - loss: 0.4165 - acc: 0.8563\n",
            "Epoch 37/100\n",
            "781/781 [==============================] - 27s 35ms/step - loss: 0.4120 - acc: 0.8583\n",
            "Epoch 38/100\n",
            "781/781 [==============================] - 27s 35ms/step - loss: 0.4124 - acc: 0.8593\n",
            "Epoch 39/100\n",
            "781/781 [==============================] - 27s 35ms/step - loss: 0.4129 - acc: 0.8591\n",
            "Epoch 40/100\n",
            "781/781 [==============================] - 28s 35ms/step - loss: 0.4081 - acc: 0.8592\n",
            "Epoch 41/100\n",
            "781/781 [==============================] - 28s 36ms/step - loss: 0.4119 - acc: 0.8579\n",
            "Epoch 42/100\n",
            "781/781 [==============================] - 27s 35ms/step - loss: 0.4065 - acc: 0.8604\n",
            "Epoch 43/100\n",
            "781/781 [==============================] - 27s 35ms/step - loss: 0.4069 - acc: 0.8598\n",
            "Epoch 44/100\n",
            "781/781 [==============================] - 27s 35ms/step - loss: 0.4091 - acc: 0.8598\n",
            "Epoch 45/100\n",
            "781/781 [==============================] - 28s 35ms/step - loss: 0.4028 - acc: 0.8612\n",
            "Epoch 46/100\n",
            "781/781 [==============================] - 28s 35ms/step - loss: 0.4020 - acc: 0.8635\n",
            "Epoch 47/100\n",
            "781/781 [==============================] - 28s 36ms/step - loss: 0.4056 - acc: 0.8606\n",
            "Epoch 48/100\n",
            "781/781 [==============================] - 28s 35ms/step - loss: 0.4095 - acc: 0.8599\n",
            "Epoch 49/100\n",
            "781/781 [==============================] - 28s 36ms/step - loss: 0.3999 - acc: 0.8619\n",
            "Epoch 50/100\n",
            "781/781 [==============================] - 28s 36ms/step - loss: 0.4071 - acc: 0.8613\n",
            "Epoch 51/100\n",
            "781/781 [==============================] - 28s 36ms/step - loss: 0.4033 - acc: 0.8609\n",
            "Epoch 52/100\n",
            "781/781 [==============================] - 29s 37ms/step - loss: 0.3994 - acc: 0.8624\n",
            "Epoch 53/100\n",
            "781/781 [==============================] - 29s 37ms/step - loss: 0.4043 - acc: 0.8621\n",
            "Epoch 54/100\n",
            "781/781 [==============================] - 29s 37ms/step - loss: 0.4011 - acc: 0.8628\n",
            "Epoch 55/100\n",
            "781/781 [==============================] - 29s 37ms/step - loss: 0.3978 - acc: 0.8627\n",
            "Epoch 56/100\n",
            "781/781 [==============================] - 29s 37ms/step - loss: 0.4000 - acc: 0.8622\n",
            "Epoch 57/100\n",
            "781/781 [==============================] - 29s 37ms/step - loss: 0.3978 - acc: 0.8652\n",
            "Epoch 58/100\n",
            "781/781 [==============================] - 29s 37ms/step - loss: 0.4026 - acc: 0.8607\n",
            "Epoch 59/100\n",
            "781/781 [==============================] - 29s 37ms/step - loss: 0.3987 - acc: 0.8631\n",
            "Epoch 60/100\n",
            "781/781 [==============================] - 29s 37ms/step - loss: 0.4003 - acc: 0.8619\n",
            "Epoch 61/100\n",
            "781/781 [==============================] - 29s 38ms/step - loss: 0.4029 - acc: 0.8606\n",
            "Epoch 62/100\n",
            "781/781 [==============================] - 29s 37ms/step - loss: 0.3945 - acc: 0.8641\n",
            "Epoch 63/100\n",
            "781/781 [==============================] - 29s 38ms/step - loss: 0.4000 - acc: 0.8610\n",
            "Epoch 64/100\n",
            "781/781 [==============================] - 29s 38ms/step - loss: 0.3949 - acc: 0.8637\n",
            "Epoch 65/100\n",
            "781/781 [==============================] - 30s 38ms/step - loss: 0.3974 - acc: 0.8625\n",
            "Epoch 66/100\n",
            "781/781 [==============================] - 29s 37ms/step - loss: 0.3961 - acc: 0.8642\n",
            "Epoch 67/100\n",
            "781/781 [==============================] - 29s 38ms/step - loss: 0.3936 - acc: 0.8640\n",
            "Epoch 68/100\n",
            "781/781 [==============================] - 30s 38ms/step - loss: 0.3967 - acc: 0.8650\n",
            "Epoch 69/100\n",
            "781/781 [==============================] - 30s 39ms/step - loss: 0.3911 - acc: 0.8654\n",
            "Epoch 70/100\n",
            "781/781 [==============================] - 30s 38ms/step - loss: 0.3922 - acc: 0.8647\n",
            "Epoch 71/100\n",
            "781/781 [==============================] - 29s 38ms/step - loss: 0.3928 - acc: 0.8650\n",
            "Epoch 72/100\n",
            "781/781 [==============================] - 29s 38ms/step - loss: 0.3885 - acc: 0.8655\n",
            "Epoch 73/100\n",
            "781/781 [==============================] - 30s 38ms/step - loss: 0.3926 - acc: 0.8648\n",
            "Epoch 74/100\n",
            "781/781 [==============================] - 29s 38ms/step - loss: 0.3876 - acc: 0.8669\n",
            "Epoch 75/100\n",
            "781/781 [==============================] - 30s 38ms/step - loss: 0.3926 - acc: 0.8656\n",
            "Epoch 76/100\n",
            "781/781 [==============================] - 30s 38ms/step - loss: 0.3892 - acc: 0.8669\n",
            "Epoch 77/100\n",
            "781/781 [==============================] - 31s 40ms/step - loss: 0.3890 - acc: 0.8667\n",
            "Epoch 78/100\n",
            "781/781 [==============================] - 31s 40ms/step - loss: 0.3934 - acc: 0.8652\n",
            "Epoch 79/100\n",
            "781/781 [==============================] - 31s 40ms/step - loss: 0.3872 - acc: 0.8669\n",
            "Epoch 80/100\n",
            "781/781 [==============================] - 31s 39ms/step - loss: 0.3910 - acc: 0.8656\n",
            "Epoch 81/100\n",
            "781/781 [==============================] - 31s 39ms/step - loss: 0.3922 - acc: 0.8650\n",
            "Epoch 82/100\n",
            "781/781 [==============================] - 30s 39ms/step - loss: 0.3886 - acc: 0.8656\n",
            "Epoch 83/100\n",
            "781/781 [==============================] - 30s 38ms/step - loss: 0.3875 - acc: 0.8667\n",
            "Epoch 84/100\n",
            "781/781 [==============================] - 30s 38ms/step - loss: 0.3868 - acc: 0.8673\n",
            "Epoch 85/100\n",
            "781/781 [==============================] - 30s 38ms/step - loss: 0.3891 - acc: 0.8669\n",
            "Epoch 86/100\n",
            "781/781 [==============================] - 29s 37ms/step - loss: 0.3858 - acc: 0.8665\n",
            "Epoch 87/100\n",
            "781/781 [==============================] - 29s 37ms/step - loss: 0.3852 - acc: 0.8656\n",
            "Epoch 88/100\n",
            "781/781 [==============================] - 29s 37ms/step - loss: 0.3883 - acc: 0.8672\n",
            "Epoch 89/100\n",
            "781/781 [==============================] - 28s 36ms/step - loss: 0.3878 - acc: 0.8679\n",
            "Epoch 90/100\n",
            "781/781 [==============================] - 28s 36ms/step - loss: 0.3815 - acc: 0.8686\n",
            "Epoch 91/100\n",
            "781/781 [==============================] - 29s 37ms/step - loss: 0.3844 - acc: 0.8673\n",
            "Epoch 92/100\n",
            "781/781 [==============================] - 28s 36ms/step - loss: 0.3800 - acc: 0.8706\n",
            "Epoch 93/100\n",
            "781/781 [==============================] - 28s 36ms/step - loss: 0.3794 - acc: 0.8687\n",
            "Epoch 94/100\n",
            "781/781 [==============================] - 28s 35ms/step - loss: 0.3801 - acc: 0.8683\n",
            "Epoch 95/100\n",
            "781/781 [==============================] - 28s 36ms/step - loss: 0.3835 - acc: 0.8686\n",
            "Epoch 96/100\n",
            "781/781 [==============================] - 27s 35ms/step - loss: 0.3825 - acc: 0.8687\n",
            "Epoch 97/100\n",
            "781/781 [==============================] - 27s 35ms/step - loss: 0.3815 - acc: 0.8668\n",
            "Epoch 98/100\n",
            "781/781 [==============================] - 27s 35ms/step - loss: 0.3796 - acc: 0.8693\n",
            "Epoch 99/100\n",
            "781/781 [==============================] - 27s 35ms/step - loss: 0.3869 - acc: 0.8659\n",
            "Epoch 100/100\n",
            "781/781 [==============================] - 27s 35ms/step - loss: 0.3821 - acc: 0.8677\n"
          ],
          "name": "stdout"
        }
      ]
    },
    {
      "cell_type": "markdown",
      "metadata": {
        "id": "uJU29NpB1-y0",
        "colab_type": "text"
      },
      "source": [
        "### 3.2. Evaluate the model on the test set\n",
        "\n",
        "Do NOT used the test set until now. Make sure that your model parameters and hyper-parameters are independent of the test set."
      ]
    },
    {
      "cell_type": "code",
      "metadata": {
        "id": "OdO-0fGM1-y1",
        "colab_type": "code",
        "colab": {
          "base_uri": "https://localhost:8080/",
          "height": 68
        },
        "outputId": "55a23dfd-4cc8-4693-f69b-78856cd40495"
      },
      "source": [
        "loss_and_acc = model.evaluate(x_test, y_test_vec)\n",
        "print('loss = ' + str(loss_and_acc[0]))\n",
        "print('accuracy = ' + str(loss_and_acc[1]))"
      ],
      "execution_count": 56,
      "outputs": [
        {
          "output_type": "stream",
          "text": [
            "10000/10000 [==============================] - 2s 188us/step\n",
            "loss = 0.42866249833106995\n",
            "accuracy = 0.8649\n"
          ],
          "name": "stdout"
        }
      ]
    },
    {
      "cell_type": "code",
      "metadata": {
        "id": "ul8sA13m1-y4",
        "colab_type": "code",
        "colab": {}
      },
      "source": [
        ""
      ],
      "execution_count": 0,
      "outputs": []
    }
  ]
}