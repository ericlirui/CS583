{
 "cells": [
  {
   "cell_type": "markdown",
   "metadata": {
    "pycharm": {}
   },
   "source": [
    "# HM2: Numerical Optimization for Logistic Regression.\n",
    "\n",
    "### Name: [RUI LI]\n"
   ]
  },
  {
   "cell_type": "markdown",
   "metadata": {
    "pycharm": {}
   },
   "source": [
    "## 0. You will do the following:\n",
    "\n",
    "1. Read the lecture note: [click here](https://github.com/wangshusen/DeepLearning/blob/master/LectureNotes/Logistic/paper/logistic.pdf)\n",
    "\n",
    "2. Read, complete, and run my code.\n",
    "\n",
    "3. **Implement mini-batch SGD** and evaluate the performance.\n",
    "\n",
    "4. Convert the .IPYNB file to .HTML file.\n",
    "\n",
    "    * The HTML file must contain **the code** and **the output after execution**.\n",
    "    \n",
    "    * Missing **the output after execution** will not be graded.\n",
    "    \n",
    "5. Upload this .HTML file to your Google Drive, Dropbox, or your Github repo.  (If you submit the file to Google Drive or Dropbox, you must make the file \"open-access\". The delay caused by \"deny of access\" may result in late penalty.)\n",
    "\n",
    "6. Submit the link to this .HTML file to Canvas.\n",
    "\n",
    "    * Example: https://github.com/wangshusen/CS583-2020S/blob/master/homework/HM2/HM2.html\n",
    "\n",
    "\n",
    "## Grading criteria:\n",
    "\n",
    "1. When computing the ```gradient``` and ```objective function value``` using a batch of samples, use **matrix-vector multiplication** rather than a FOR LOOP of **vector-vector multiplications**.\n",
    "\n",
    "2. Plot ```objective function value``` against ```epochs```. In the plot, compare GD, SGD, and MB-SGD (with $b=8$ and $b=64$). The plot must look reasonable."
   ]
  },
  {
   "cell_type": "code",
   "execution_count": null,
   "metadata": {
    "pycharm": {}
   },
   "outputs": [],
   "source": []
  },
  {
   "cell_type": "markdown",
   "metadata": {
    "pycharm": {}
   },
   "source": [
    "# 1. Data processing\n",
    "\n",
    "- Download the Diabete dataset from https://www.csie.ntu.edu.tw/~cjlin/libsvmtools/datasets/binary/diabetes\n",
    "- Load the data using sklearn.\n",
    "- Preprocess the data."
   ]
  },
  {
   "cell_type": "markdown",
   "metadata": {
    "pycharm": {}
   },
   "source": [
    "## 1.1. Load the data"
   ]
  },
  {
   "cell_type": "code",
   "execution_count": 3,
   "metadata": {
    "pycharm": {}
   },
   "outputs": [
    {
     "name": "stdout",
     "output_type": "stream",
     "text": [
      "Shape of x: (768, 8)\n",
      "Shape of y: (768,)\n"
     ]
    }
   ],
   "source": [
    "from sklearn import datasets\n",
    "import numpy\n",
    "\n",
    "x_sparse, y = datasets.load_svmlight_file('diabetes')\n",
    "x = x_sparse.todense()\n",
    "\n",
    "print('Shape of x: ' + str(x.shape))\n",
    "print('Shape of y: ' + str(y.shape))"
   ]
  },
  {
   "cell_type": "markdown",
   "metadata": {
    "pycharm": {}
   },
   "source": [
    "## 1.2. Partition to training and test sets"
   ]
  },
  {
   "cell_type": "code",
   "execution_count": 4,
   "metadata": {
    "pycharm": {}
   },
   "outputs": [
    {
     "name": "stdout",
     "output_type": "stream",
     "text": [
      "Shape of x_train: (640, 8)\n",
      "Shape of x_test: (128, 8)\n",
      "Shape of y_train: (640, 1)\n",
      "Shape of y_test: (128, 1)\n"
     ]
    }
   ],
   "source": [
    "# partition the data to training and test sets\n",
    "n = x.shape[0]\n",
    "n_train = 640\n",
    "n_test = n - n_train\n",
    "\n",
    "rand_indices = numpy.random.permutation(n)\n",
    "train_indices = rand_indices[0:n_train]\n",
    "test_indices = rand_indices[n_train:n]\n",
    "\n",
    "x_train = x[train_indices, :]\n",
    "x_test = x[test_indices, :]\n",
    "y_train = y[train_indices].reshape(n_train, 1)\n",
    "y_test = y[test_indices].reshape(n_test, 1)\n",
    "\n",
    "print('Shape of x_train: ' + str(x_train.shape))\n",
    "print('Shape of x_test: ' + str(x_test.shape))\n",
    "print('Shape of y_train: ' + str(y_train.shape))\n",
    "print('Shape of y_test: ' + str(y_test.shape))"
   ]
  },
  {
   "cell_type": "markdown",
   "metadata": {
    "pycharm": {}
   },
   "source": [
    "## 1.3. Feature scaling"
   ]
  },
  {
   "cell_type": "markdown",
   "metadata": {
    "pycharm": {}
   },
   "source": [
    "Use the standardization to trainsform both training and test features"
   ]
  },
  {
   "cell_type": "code",
   "execution_count": 5,
   "metadata": {
    "pycharm": {}
   },
   "outputs": [
    {
     "name": "stdout",
     "output_type": "stream",
     "text": [
      "test mean = \n",
      "[[ 0.22392291  0.01141149  0.09660866  0.16947977  0.03241435  0.0927028\n",
      "  -0.02103056  0.04299233]]\n",
      "test std = \n",
      "[[1.16845694 1.05965325 0.89769351 0.98501823 1.06682321 1.04681732\n",
      "  1.00471505 0.96878373]]\n"
     ]
    }
   ],
   "source": [
    "# Standardization\n",
    "import numpy\n",
    "\n",
    "# calculate mu and sig using the training set\n",
    "d = x_train.shape[1]\n",
    "mu = numpy.mean(x_train, axis=0).reshape(1, d)\n",
    "sig = numpy.std(x_train, axis=0).reshape(1, d)\n",
    "\n",
    "# transform the training features\n",
    "x_train = (x_train - mu) / (sig + 1E-6)\n",
    "\n",
    "# transform the test features\n",
    "x_test = (x_test - mu) / (sig + 1E-6)\n",
    "\n",
    "print('test mean = ')\n",
    "print(numpy.mean(x_test, axis=0))\n",
    "\n",
    "print('test std = ')\n",
    "print(numpy.std(x_test, axis=0))"
   ]
  },
  {
   "cell_type": "markdown",
   "metadata": {
    "pycharm": {}
   },
   "source": [
    "## 1.4. Add a dimension of all ones"
   ]
  },
  {
   "cell_type": "code",
   "execution_count": 6,
   "metadata": {
    "pycharm": {}
   },
   "outputs": [
    {
     "name": "stdout",
     "output_type": "stream",
     "text": [
      "Shape of x_train: (640, 9)\n",
      "Shape of x_test: (128, 9)\n"
     ]
    }
   ],
   "source": [
    "n_train, d = x_train.shape\n",
    "x_train = numpy.concatenate((x_train, numpy.ones((n_train, 1))), axis=1)\n",
    "\n",
    "n_test, d = x_test.shape\n",
    "x_test = numpy.concatenate((x_test, numpy.ones((n_test, 1))), axis=1)\n",
    "\n",
    "print('Shape of x_train: ' + str(x_train.shape))\n",
    "print('Shape of x_test: ' + str(x_test.shape))"
   ]
  },
  {
   "cell_type": "markdown",
   "metadata": {
    "pycharm": {}
   },
   "source": [
    "# 2. Logistic regression model\n",
    "\n",
    "The objective function is $Q (w; X, y) = \\frac{1}{n} \\sum_{i=1}^n \\log \\Big( 1 + \\exp \\big( - y_i x_i^T w \\big) \\Big) + \\frac{\\lambda}{2} \\| w \\|_2^2 $."
   ]
  },
  {
   "cell_type": "code",
   "execution_count": 7,
   "metadata": {
    "pycharm": {}
   },
   "outputs": [],
   "source": [
    "# Calculate the objective function value\n",
    "# Inputs:\n",
    "#     w: d-by-1 matrix\n",
    "#     x: n-by-d matrix\n",
    "#     y: n-by-1 matrix\n",
    "#     lam: scalar, the regularization parameter\n",
    "# Return:\n",
    "#     objective function value (scalar)\n",
    "def objective(w, x, y, lam):\n",
    "    n, d = x.shape\n",
    "    yx = numpy.multiply(y, x) # n-by-d matrix\n",
    "    yxw = numpy.dot(yx, w) # n-by-1 matrix\n",
    "    vec1 = numpy.exp(-yxw) # n-by-1 matrix\n",
    "    vec2 = numpy.log(1 + vec1) # n-by-1 matrix\n",
    "    loss = numpy.mean(vec2) # scalar\n",
    "    reg = lam / 2 * numpy.sum(w * w) # scalar\n",
    "    return loss + reg\n",
    "    "
   ]
  },
  {
   "cell_type": "code",
   "execution_count": 8,
   "metadata": {
    "pycharm": {}
   },
   "outputs": [
    {
     "name": "stdout",
     "output_type": "stream",
     "text": [
      "Initial objective function value = 0.6931471805599453\n"
     ]
    }
   ],
   "source": [
    "# initialize w\n",
    "d = x_train.shape[1]\n",
    "w = numpy.zeros((d, 1))\n",
    "\n",
    "# evaluate the objective function value at w\n",
    "lam = 1E-6\n",
    "objval0 = objective(w, x_train, y_train, lam)\n",
    "print('Initial objective function value = ' + str(objval0))"
   ]
  },
  {
   "cell_type": "markdown",
   "metadata": {
    "pycharm": {}
   },
   "source": [
    "# 3. Numerical optimization"
   ]
  },
  {
   "cell_type": "markdown",
   "metadata": {
    "pycharm": {}
   },
   "source": [
    "## 3.1. Gradient descent\n"
   ]
  },
  {
   "cell_type": "markdown",
   "metadata": {
    "pycharm": {}
   },
   "source": [
    "The gradient at $w$ is $g = - \\frac{1}{n} \\sum_{i=1}^n \\frac{y_i x_i }{1 + \\exp ( y_i x_i^T w)} + \\lambda w$"
   ]
  },
  {
   "cell_type": "code",
   "execution_count": 9,
   "metadata": {
    "pycharm": {}
   },
   "outputs": [],
   "source": [
    "# Calculate the gradient\n",
    "# Inputs:\n",
    "#     w: d-by-1 matrix\n",
    "#     x: n-by-d matrix\n",
    "#     y: n-by-1 matrix\n",
    "#     lam: scalar, the regularization parameter\n",
    "# Return:\n",
    "#     g: g: d-by-1 matrix, full gradient\n",
    "def gradient(w, x, y, lam):\n",
    "    n, d = x.shape\n",
    "    yx = numpy.multiply(y, x) # n-by-d matrix\n",
    "    yxw = numpy.dot(yx, w) # n-by-1 matrix\n",
    "    vec1 = numpy.exp(yxw) # n-by-1 matrix\n",
    "    vec2 = numpy.divide(yx, 1+vec1) # n-by-d matrix\n",
    "    vec3 = -numpy.mean(vec2, axis=0).reshape(d, 1) # d-by-1 matrix\n",
    "    g = vec3 + lam * w\n",
    "    return g"
   ]
  },
  {
   "cell_type": "code",
   "execution_count": 10,
   "metadata": {
    "pycharm": {}
   },
   "outputs": [],
   "source": [
    "# Gradient descent for solving logistic regression\n",
    "# Inputs:\n",
    "#     x: n-by-d matrix\n",
    "#     y: n-by-1 matrix\n",
    "#     lam: scalar, the regularization parameter\n",
    "#     stepsize: scalar\n",
    "#     max_iter: integer, the maximal iterations\n",
    "#     w: d-by-1 matrix, initialization of w\n",
    "# Return:\n",
    "#     w: d-by-1 matrix, the solution\n",
    "#     objvals: a record of each iteration's objective value\n",
    "def grad_descent(x, y, lam, stepsize, max_iter=100, w=None):\n",
    "    n, d = x.shape\n",
    "    objvals = numpy.zeros(max_iter) # store the objective values\n",
    "    if w is None:\n",
    "        w = numpy.zeros((d, 1)) # zero initialization\n",
    "    \n",
    "    for t in range(max_iter):\n",
    "        objval = objective(w, x, y, lam)\n",
    "        objvals[t] = objval\n",
    "        print('Objective value at t=' + str(t) + ' is ' + str(objval))\n",
    "        g = gradient(w, x, y, lam)\n",
    "        w -= stepsize * g\n",
    "    \n",
    "    return w, objvals"
   ]
  },
  {
   "cell_type": "markdown",
   "metadata": {
    "pycharm": {}
   },
   "source": [
    "Run gradient descent."
   ]
  },
  {
   "cell_type": "code",
   "execution_count": 11,
   "metadata": {
    "pycharm": {}
   },
   "outputs": [
    {
     "name": "stdout",
     "output_type": "stream",
     "text": [
      "Objective value at t=0 is 0.6931471805599453\n",
      "Objective value at t=1 is 0.5866110972021702\n",
      "Objective value at t=2 is 0.5414220953291902\n",
      "Objective value at t=3 is 0.5166127080041498\n",
      "Objective value at t=4 is 0.5009875182626868\n",
      "Objective value at t=5 is 0.49037064712391637\n",
      "Objective value at t=6 is 0.48280766454579477\n",
      "Objective value at t=7 is 0.4772424136766613\n",
      "Objective value at t=8 is 0.47304773885037577\n",
      "Objective value at t=9 is 0.4698263785516676\n",
      "Objective value at t=10 is 0.4673147292873501\n",
      "Objective value at t=11 is 0.4653316350874945\n",
      "Objective value at t=12 is 0.4637491099622195\n",
      "Objective value at t=13 is 0.46247466479063587\n",
      "Objective value at t=14 is 0.4614401799058387\n",
      "Objective value at t=15 is 0.4605946594316959\n",
      "Objective value at t=16 is 0.4598993810750794\n",
      "Objective value at t=17 is 0.45932457281811606\n",
      "Objective value at t=18 is 0.4588470895103539\n",
      "Objective value at t=19 is 0.45844875951435876\n",
      "Objective value at t=20 is 0.4581151894738008\n",
      "Objective value at t=21 is 0.4578348879263597\n",
      "Objective value at t=22 is 0.45759861439858734\n",
      "Objective value at t=23 is 0.45739889028272745\n",
      "Objective value at t=24 is 0.45722962733518996\n",
      "Objective value at t=25 is 0.4570858427339094\n",
      "Objective value at t=26 is 0.45696343855100513\n",
      "Objective value at t=27 is 0.4568590296594713\n",
      "Objective value at t=28 is 0.45676980840742815\n",
      "Objective value at t=29 is 0.4566934374522795\n",
      "Objective value at t=30 is 0.4566279643407055\n",
      "Objective value at t=31 is 0.456571753010565\n",
      "Objective value at t=32 is 0.4565234285551793\n",
      "Objective value at t=33 is 0.4564818324512277\n",
      "Objective value at t=34 is 0.4564459860934754\n",
      "Objective value at t=35 is 0.45641506096240714\n",
      "Objective value at t=36 is 0.4563883541168799\n",
      "Objective value at t=37 is 0.45636526798347177\n",
      "Objective value at t=38 is 0.45634529362921666\n",
      "Objective value at t=39 is 0.4563279968709007\n",
      "Objective value at t=40 is 0.45631300670379493\n",
      "Objective value at t=41 is 0.456300005634359\n",
      "Objective value at t=42 is 0.45628872158157596\n",
      "Objective value at t=43 is 0.4562789210750587\n",
      "Objective value at t=44 is 0.45627040352863296\n",
      "Objective value at t=45 is 0.45626299640855184\n",
      "Objective value at t=46 is 0.4562565511480148\n",
      "Objective value at t=47 is 0.4562509396859155\n",
      "Objective value at t=48 is 0.45624605152901504\n",
      "Objective value at t=49 is 0.4562417912540499\n",
      "Objective value at t=50 is 0.45623807638042213\n",
      "Objective value at t=51 is 0.45623483555570016\n",
      "Objective value at t=52 is 0.4562320070056869\n",
      "Objective value at t=53 is 0.4562295372086663\n",
      "Objective value at t=54 is 0.4562273797599368\n",
      "Objective value at t=55 is 0.45622549439813004\n",
      "Objective value at t=56 is 0.45622384616929923\n",
      "Objective value at t=57 is 0.45622240470849484\n",
      "Objective value at t=58 is 0.45622114362167715\n",
      "Objective value at t=59 is 0.4562200399534244\n",
      "Objective value at t=60 is 0.45621907372810167\n",
      "Objective value at t=61 is 0.4562182275539979\n",
      "Objective value at t=62 is 0.45621748628150116\n",
      "Objective value at t=63 is 0.456216836707697\n",
      "Objective value at t=64 is 0.45621626732088794\n",
      "Objective value at t=65 is 0.4562157680794771\n",
      "Objective value at t=66 is 0.4562153302204594\n",
      "Objective value at t=67 is 0.4562149460934429\n",
      "Objective value at t=68 is 0.4562146090167057\n",
      "Objective value at t=69 is 0.4562143131522849\n",
      "Objective value at t=70 is 0.4562140533975167\n",
      "Objective value at t=71 is 0.45621382529080795\n",
      "Objective value at t=72 is 0.4562136249297266\n",
      "Objective value at t=73 is 0.4562134488997633\n",
      "Objective value at t=74 is 0.45621329421234164\n",
      "Objective value at t=75 is 0.4562131582508505\n",
      "Objective value at t=76 is 0.45621303872363905\n",
      "Objective value at t=77 is 0.45621293362305493\n",
      "Objective value at t=78 is 0.456212841189736\n",
      "Objective value at t=79 is 0.4562127598814659\n",
      "Objective value at t=80 is 0.4562126883460011\n",
      "Objective value at t=81 is 0.45621262539735136\n",
      "Objective value at t=82 is 0.45621256999506915\n",
      "Objective value at t=83 is 0.4562125212261575\n",
      "Objective value at t=84 is 0.4562124782892604\n",
      "Objective value at t=85 is 0.4562124404808426\n",
      "Objective value at t=86 is 0.456212407183105\n",
      "Objective value at t=87 is 0.45621237785341257\n",
      "Objective value at t=88 is 0.4562123520150449\n",
      "Objective value at t=89 is 0.45621232924909916\n",
      "Objective value at t=90 is 0.4562123091874006\n",
      "Objective value at t=91 is 0.45621229150629294\n",
      "Objective value at t=92 is 0.45621227592119995\n",
      "Objective value at t=93 is 0.45621226218185773\n",
      "Objective value at t=94 is 0.4562122500681355\n",
      "Objective value at t=95 is 0.4562122393863727\n",
      "Objective value at t=96 is 0.4562122299661649\n",
      "Objective value at t=97 is 0.4562122216575456\n",
      "Objective value at t=98 is 0.45621221432851167\n",
      "Objective value at t=99 is 0.45621220786285316\n"
     ]
    }
   ],
   "source": [
    "lam = 1E-6\n",
    "stepsize = 1.0\n",
    "w, objvals_gd = grad_descent(x_train, y_train, lam, stepsize)"
   ]
  },
  {
   "cell_type": "markdown",
   "metadata": {
    "pycharm": {}
   },
   "source": [
    "## 3.2. Stochastic gradient descent (SGD)\n",
    "\n",
    "Define $Q_i (w) = \\log \\Big( 1 + \\exp \\big( - y_i x_i^T w \\big) \\Big) + \\frac{\\lambda}{2} \\| w \\|_2^2 $.\n",
    "\n",
    "The stochastic gradient at $w$ is $g_i = \\frac{\\partial Q_i }{ \\partial w} = -\\frac{y_i x_i }{1 + \\exp ( y_i x_i^T w)} + \\lambda w$."
   ]
  },
  {
   "cell_type": "code",
   "execution_count": 12,
   "metadata": {
    "pycharm": {}
   },
   "outputs": [],
   "source": [
    "# Calculate the objective Q_i and the gradient of Q_i\n",
    "# Inputs:\n",
    "#     w: d-by-1 matrix\n",
    "#     xi: 1-by-d matrix\n",
    "#     yi: scalar\n",
    "#     lam: scalar, the regularization parameter\n",
    "# Return:\n",
    "#     obj: scalar, the objective Q_i\n",
    "#     g: d-by-1 matrix, gradient of Q_i\n",
    "def stochastic_objective_gradient(w, xi, yi, lam):\n",
    "    d = xi.shape[0]\n",
    "    yx = yi * xi # 1-by-d matrix\n",
    "    yxw = float(numpy.dot(yx, w)) # scalar\n",
    "    \n",
    "    # calculate objective function Q_i\n",
    "    loss = numpy.log(1 + numpy.exp(-yxw)) # scalar\n",
    "    reg = lam / 2 * numpy.sum(w * w) # scalar\n",
    "    obj = loss + reg\n",
    "    \n",
    "    # calculate stochastic gradient\n",
    "    g_loss = -yx.T / (1 + numpy.exp(yxw)) # d-by-1 matrix\n",
    "    g = g_loss + lam * w # d-by-1 matrix\n",
    "    \n",
    "    return obj, g"
   ]
  },
  {
   "cell_type": "code",
   "execution_count": 13,
   "metadata": {
    "pycharm": {}
   },
   "outputs": [],
   "source": [
    "# SGD for solving logistic regression\n",
    "# Inputs:\n",
    "#     x: n-by-d matrix\n",
    "#     y: n-by-1 matrix\n",
    "#     lam: scalar, the regularization parameter\n",
    "#     stepsize: scalar\n",
    "#     max_epoch: integer, the maximal epochs\n",
    "#     w: d-by-1 matrix, initialization of w\n",
    "# Return:\n",
    "#     w: the solution\n",
    "#     objvals: record of each iteration's objective value\n",
    "def sgd(x, y, lam, stepsize, max_epoch=100, w=None):\n",
    "    n, d = x.shape\n",
    "    objvals = numpy.zeros(max_epoch) # store the objective values\n",
    "    if w is None:\n",
    "        w = numpy.zeros((d, 1)) # zero initialization\n",
    "    \n",
    "    for t in range(max_epoch):\n",
    "        # randomly shuffle the samples\n",
    "        rand_indices = numpy.random.permutation(n)\n",
    "        x_rand = x[rand_indices, :]\n",
    "        y_rand = y[rand_indices, :]\n",
    "        \n",
    "        objval = 0 # accumulate the objective values\n",
    "        for i in range(n):\n",
    "            xi = x_rand[i, :] # 1-by-d matrix\n",
    "            yi = float(y_rand[i, :]) # scalar\n",
    "            obj, g = stochastic_objective_gradient(w, xi, yi, lam)\n",
    "            objval += obj\n",
    "            w -= stepsize * g\n",
    "        \n",
    "        stepsize *= 0.9 # decrease step size\n",
    "        objval /= n\n",
    "        objvals[t] = objval\n",
    "        print('Objective value at epoch t=' + str(t) + ' is ' + str(objval))\n",
    "    \n",
    "    return w, objvals"
   ]
  },
  {
   "cell_type": "markdown",
   "metadata": {
    "pycharm": {}
   },
   "source": [
    "Run SGD."
   ]
  },
  {
   "cell_type": "code",
   "execution_count": 14,
   "metadata": {
    "pycharm": {}
   },
   "outputs": [
    {
     "name": "stdout",
     "output_type": "stream",
     "text": [
      "Objective value at epoch t=0 is 0.5013634699955901\n",
      "Objective value at epoch t=1 is 0.5059196968452824\n",
      "Objective value at epoch t=2 is 0.5050491840452163\n",
      "Objective value at epoch t=3 is 0.4938953576216119\n",
      "Objective value at epoch t=4 is 0.49124615107771785\n",
      "Objective value at epoch t=5 is 0.48945127326763005\n",
      "Objective value at epoch t=6 is 0.48640752828351586\n",
      "Objective value at epoch t=7 is 0.48205324467748634\n",
      "Objective value at epoch t=8 is 0.47924733467901737\n",
      "Objective value at epoch t=9 is 0.47843910113809435\n",
      "Objective value at epoch t=10 is 0.47435835618581007\n",
      "Objective value at epoch t=11 is 0.4703477830403918\n",
      "Objective value at epoch t=12 is 0.47242258372435575\n",
      "Objective value at epoch t=13 is 0.46874252045671494\n",
      "Objective value at epoch t=14 is 0.4676870743154448\n",
      "Objective value at epoch t=15 is 0.46764069011702264\n",
      "Objective value at epoch t=16 is 0.46703881286061827\n",
      "Objective value at epoch t=17 is 0.46695512622260515\n",
      "Objective value at epoch t=18 is 0.4639382545389042\n",
      "Objective value at epoch t=19 is 0.46408165477909435\n",
      "Objective value at epoch t=20 is 0.46356080893379936\n",
      "Objective value at epoch t=21 is 0.46245470997899235\n",
      "Objective value at epoch t=22 is 0.4624453893787388\n",
      "Objective value at epoch t=23 is 0.46150942620255453\n",
      "Objective value at epoch t=24 is 0.46134958896392286\n",
      "Objective value at epoch t=25 is 0.460651183651446\n",
      "Objective value at epoch t=26 is 0.46018764691112546\n",
      "Objective value at epoch t=27 is 0.4600467299208357\n",
      "Objective value at epoch t=28 is 0.45957289459314554\n",
      "Objective value at epoch t=29 is 0.45940902512039444\n",
      "Objective value at epoch t=30 is 0.45902641135146477\n",
      "Objective value at epoch t=31 is 0.4586696819444091\n",
      "Objective value at epoch t=32 is 0.458474465689174\n",
      "Objective value at epoch t=33 is 0.4583187753974832\n",
      "Objective value at epoch t=34 is 0.45807816830074266\n",
      "Objective value at epoch t=35 is 0.4579208082592244\n",
      "Objective value at epoch t=36 is 0.45770224991615055\n",
      "Objective value at epoch t=37 is 0.457588095094851\n",
      "Objective value at epoch t=38 is 0.4574583927490887\n",
      "Objective value at epoch t=39 is 0.45733561109741017\n",
      "Objective value at epoch t=40 is 0.457155032045221\n",
      "Objective value at epoch t=41 is 0.45712733398799327\n",
      "Objective value at epoch t=42 is 0.45701800663287917\n",
      "Objective value at epoch t=43 is 0.4569506729596161\n",
      "Objective value at epoch t=44 is 0.45687105203063083\n",
      "Objective value at epoch t=45 is 0.45680509029501454\n",
      "Objective value at epoch t=46 is 0.4567528813272461\n",
      "Objective value at epoch t=47 is 0.45669291311016896\n",
      "Objective value at epoch t=48 is 0.4566453060089753\n",
      "Objective value at epoch t=49 is 0.45660469458547304\n",
      "Objective value at epoch t=50 is 0.4565693129382266\n",
      "Objective value at epoch t=51 is 0.4565321244367463\n",
      "Objective value at epoch t=52 is 0.45650121690065\n",
      "Objective value at epoch t=53 is 0.45647145550866447\n",
      "Objective value at epoch t=54 is 0.4564456341591958\n",
      "Objective value at epoch t=55 is 0.4564232281485842\n",
      "Objective value at epoch t=56 is 0.45640216974639475\n",
      "Objective value at epoch t=57 is 0.4563829209598323\n",
      "Objective value at epoch t=58 is 0.45636609077409174\n",
      "Objective value at epoch t=59 is 0.45635048446890575\n",
      "Objective value at epoch t=60 is 0.4563370262360598\n",
      "Objective value at epoch t=61 is 0.4563244448517344\n",
      "Objective value at epoch t=62 is 0.4563131392491334\n",
      "Objective value at epoch t=63 is 0.4563032470746835\n",
      "Objective value at epoch t=64 is 0.4562942406878109\n",
      "Objective value at epoch t=65 is 0.45628602558219467\n",
      "Objective value at epoch t=66 is 0.45627872202332875\n",
      "Objective value at epoch t=67 is 0.45627197871487646\n",
      "Objective value at epoch t=68 is 0.4562660988694519\n",
      "Objective value at epoch t=69 is 0.4562607328279372\n",
      "Objective value at epoch t=70 is 0.456255878266228\n",
      "Objective value at epoch t=71 is 0.4562515058186367\n",
      "Objective value at epoch t=72 is 0.45624760449841145\n",
      "Objective value at epoch t=73 is 0.45624408666572264\n",
      "Objective value at epoch t=74 is 0.4562409124979482\n",
      "Objective value at epoch t=75 is 0.4562380528134489\n",
      "Objective value at epoch t=76 is 0.45623547778517226\n",
      "Objective value at epoch t=77 is 0.4562331575787013\n",
      "Objective value at epoch t=78 is 0.4562310788556763\n",
      "Objective value at epoch t=79 is 0.45622920725174937\n",
      "Objective value at epoch t=80 is 0.45622751632833214\n",
      "Objective value at epoch t=81 is 0.4562260001482197\n",
      "Objective value at epoch t=82 is 0.4562246298319127\n",
      "Objective value at epoch t=83 is 0.4562234029106473\n",
      "Objective value at epoch t=84 is 0.4562222914167771\n",
      "Objective value at epoch t=85 is 0.45622129825792224\n",
      "Objective value at epoch t=86 is 0.4562203968968258\n",
      "Objective value at epoch t=87 is 0.4562195936375263\n",
      "Objective value at epoch t=88 is 0.45621886604426665\n",
      "Objective value at epoch t=89 is 0.45621821241141836\n",
      "Objective value at epoch t=90 is 0.4562176235816831\n",
      "Objective value at epoch t=91 is 0.4562170935799038\n",
      "Objective value at epoch t=92 is 0.45621661658017\n",
      "Objective value at epoch t=93 is 0.45621618754949395\n",
      "Objective value at epoch t=94 is 0.45621580142890455\n",
      "Objective value at epoch t=95 is 0.4562154534401734\n",
      "Objective value at epoch t=96 is 0.45621514074175573\n",
      "Objective value at epoch t=97 is 0.4562148590564961\n",
      "Objective value at epoch t=98 is 0.4562146056381101\n",
      "Objective value at epoch t=99 is 0.4562143776383373\n"
     ]
    }
   ],
   "source": [
    "lam = 1E-6\n",
    "stepsize = 0.1\n",
    "w, objvals_sgd = sgd(x_train, y_train, lam, stepsize)"
   ]
  },
  {
   "cell_type": "markdown",
   "metadata": {
    "pycharm": {}
   },
   "source": [
    "# 4. Compare GD with SGD\n",
    "\n",
    "Plot objective function values against epochs."
   ]
  },
  {
   "cell_type": "code",
   "execution_count": 16,
   "metadata": {
    "pycharm": {}
   },
   "outputs": [
    {
     "data": {
      "image/png": "[encoded data removed]",
      "text/plain": [
       "<Figure size 432x288 with 1 Axes>"
      ]
     },
     "metadata": {
      "needs_background": "light"
     },
     "output_type": "display_data"
    }
   ],
   "source": [
    "import matplotlib.pyplot as plt\n",
    "%matplotlib inline\n",
    "\n",
    "fig = plt.figure(figsize=(6, 4))\n",
    "\n",
    "epochs_gd = range(len(objvals_gd))\n",
    "epochs_sgd = range(len(objvals_sgd))\n",
    "\n",
    "line0, = plt.plot(epochs_gd, objvals_gd, '--b', LineWidth=4)\n",
    "line1, = plt.plot(epochs_sgd, objvals_sgd, '-r', LineWidth=2)\n",
    "plt.xlabel('Epochs', FontSize=20)\n",
    "plt.ylabel('Objective Value', FontSize=20)\n",
    "plt.xticks(FontSize=16)\n",
    "plt.yticks(FontSize=16)\n",
    "plt.legend([line0, line1], ['GD', 'SGD'], fontsize=20)\n",
    "plt.tight_layout()\n",
    "plt.show()\n",
    "fig.savefig('compare_gd_sgd.pdf', format='pdf', dpi=1200)"
   ]
  },
  {
   "cell_type": "markdown",
   "metadata": {
    "pycharm": {}
   },
   "source": [
    "# 5. Prediction"
   ]
  },
  {
   "cell_type": "code",
   "execution_count": 17,
   "metadata": {
    "pycharm": {}
   },
   "outputs": [],
   "source": [
    "# Predict class label\n",
    "# Inputs:\n",
    "#     w: d-by-1 matrix\n",
    "#     X: m-by-d matrix\n",
    "# Return:\n",
    "#     f: m-by-1 matrix, the predictions\n",
    "def predict(w, X):\n",
    "    xw = numpy.dot(X, w)\n",
    "    f = numpy.sign(xw)\n",
    "    return f"
   ]
  },
  {
   "cell_type": "code",
   "execution_count": 18,
   "metadata": {
    "pycharm": {}
   },
   "outputs": [
    {
     "name": "stdout",
     "output_type": "stream",
     "text": [
      "Training classification error is 0.215625\n"
     ]
    }
   ],
   "source": [
    "# evaluate training error\n",
    "f_train = predict(w, x_train)\n",
    "diff = numpy.abs(f_train - y_train) / 2\n",
    "error_train = numpy.mean(diff)\n",
    "print('Training classification error is ' + str(error_train))"
   ]
  },
  {
   "cell_type": "code",
   "execution_count": 19,
   "metadata": {
    "pycharm": {}
   },
   "outputs": [
    {
     "name": "stdout",
     "output_type": "stream",
     "text": [
      "Test classification error is 0.234375\n"
     ]
    }
   ],
   "source": [
    "# evaluate test error\n",
    "f_test = predict(w, x_test)\n",
    "diff = numpy.abs(f_test - y_test) / 2\n",
    "error_test = numpy.mean(diff)\n",
    "print('Test classification error is ' + str(error_test))"
   ]
  },
  {
   "cell_type": "markdown",
   "metadata": {
    "pycharm": {}
   },
   "source": [
    "# 6. Mini-batch SGD (fill the code)\n",
    "\n"
   ]
  },
  {
   "cell_type": "markdown",
   "metadata": {
    "pycharm": {}
   },
   "source": [
    "## 6.1. Compute the objective $Q_I$ and its gradient using a batch of samples\n",
    "\n",
    "Define $Q_I (w) = \\frac{1}{b} \\sum_{i \\in I} \\log \\Big( 1 + \\exp \\big( - y_i x_i^T w \\big) \\Big) + \\frac{\\lambda}{2} \\| w \\|_2^2 $, where $I$ is a set containing $b$ indices randomly drawn from $\\{ 1, \\cdots , n \\}$ without replacement.\n",
    "\n",
    "The stochastic gradient at $w$ is $g_I = \\frac{\\partial Q_I }{ \\partial w} = \\frac{1}{b} \\sum_{i \\in I} \\frac{- y_i x_i }{1 + \\exp ( y_i x_i^T w)} + \\lambda w$."
   ]
  },
  {
   "cell_type": "code",
   "execution_count": 20,
   "metadata": {
    "pycharm": {}
   },
   "outputs": [],
   "source": [
    "# Calculate the objective Q_I and the gradient of Q_I\n",
    "# Inputs:\n",
    "#     w: d-by-1 matrix\n",
    "#     xi: b-by-d matrix\n",
    "#     yi: b-by-1 matrix\n",
    "#     lam: scalar, the regularization parameter\n",
    "#     b: integer, the batch size\n",
    "# Return:\n",
    "#     obj: scalar, the objective Q_i\n",
    "#     g: d-by-1 matrix, gradient of Q_i\n",
    "def mb_stochastic_objective_gradient(w, xi, yi, lam, b):\n",
    "    # Fill the function\n",
    "    # Follow the implementation of stochastic_objective_gradient\n",
    "    # Use matrix-vector multiplication; do not use FOR LOOP of vector-vector multiplications\n",
    "    b, d = xi.shape\n",
    "    yx = numpy.multiply(yi, xi)  #b by d matrix\n",
    "    yxw = numpy.dot(yx, w)  #b by 1\n",
    "\n",
    "    # calculate objective function Q_i\n",
    "    loss = numpy.mean(numpy.log(1 + numpy.exp(-yxw)))  #scalar\n",
    "    reg = lam / 2 * numpy.sum(w * w)  # scalar\n",
    "    obj = loss + reg\n",
    "\n",
    "    # calculate stochastic gradient\n",
    "    g_loss_vec = -numpy.divide(yx, (1 + numpy.exp(yxw)))  # b-by-d matrix\n",
    "    g = numpy.mean(g_loss_vec, axis=0).reshape(d, 1) + lam * w  # d-by-1 matrix\n",
    "\n",
    "    return obj, g"
   ]
  },
  {
   "cell_type": "markdown",
   "metadata": {
    "pycharm": {}
   },
   "source": [
    "## 6.2. Implement mini-batch SGD\n",
    "\n",
    "Hints:\n",
    "1. In every epoch, randomly permute the $n$ samples (just like SGD).\n",
    "2. Each epoch has $\\frac{n}{b}$ iterations. In every iteration, use $b$ samples, and compute the gradient and objective using the ``mb_stochastic_objective_gradient`` function. In the next iteration, use the next $b$ samples, and so on.\n"
   ]
  },
  {
   "cell_type": "code",
   "execution_count": 23,
   "metadata": {
    "pycharm": {}
   },
   "outputs": [],
   "source": [
    "import math\n",
    "# Mini-Batch SGD for solving logistic regression\n",
    "# Inputs:\n",
    "#     x: n-by-d matrix\n",
    "#     y: n-by-1 matrix\n",
    "#     lam: scalar, the regularization parameter\n",
    "#     b: integer, the batch size\n",
    "#     stepsize: scalar\n",
    "#     max_epoch: integer, the maximal epochs\n",
    "#     w: d-by-1 matrix, initialization of w\n",
    "# Return:\n",
    "#     w: the solution\n",
    "#     objvals: record of each iteration's objective value\n",
    "def mb_sgd(x, y, lam, b, stepsize, max_epoch=100, w=None):\n",
    "    # Fill the function\n",
    "    # Follow the implementation of sgd\n",
    "    # Record one objective value per epoch (not per iteration!)\n",
    "    n, d = x.shape\n",
    "    objvals = numpy.zeros(max_epoch)  # store the objective values\n",
    "    if w is None:\n",
    "        w = numpy.zeros((d, 1))  # zero initialization\n",
    "\n",
    "    for t in range(max_epoch):\n",
    "        # randomly shuffle the samples\n",
    "        rand_indices = numpy.random.permutation(n)\n",
    "        x_rand = x[rand_indices, :]\n",
    "        y_rand = y[rand_indices, :]\n",
    "\n",
    "        objval = 0  # accumulate the objective values\n",
    "        for i in range(int(n / b)):  # this is the difference\n",
    "            xi = x_rand[(i*b):((i+1)*b), :]  # b-by-d matrix\n",
    "            yi = y_rand[(i*b):((i+1)*b), :]  # b-by-1 matrix\n",
    "            obj, g = mb_stochastic_objective_gradient(w, xi, yi, lam, b)\n",
    "            objval += obj\n",
    "            w -= stepsize * g\n",
    "        # for the left ones in the last batch\n",
    "        if n % b != 0:\n",
    "            xi = x_rand[-(n % b):, :]\n",
    "            yi = y_rand[-(n % b):, :]\n",
    "            obj, g = mb_stochastic_objective_gradient(w, xi, yi, lam, b)\n",
    "            objval += obj\n",
    "            w -= stepsize * g\n",
    "\n",
    "        objval /= math.ceil(n/b)\n",
    "        objvals[t] = objval\n",
    "        stepsize *= 0.9  # decrease step size\n",
    "        print('Objective value at epoch t=' + str(t) + ' is ' + str(objval))\n",
    "\n",
    "    return w, objvals"
   ]
  },
  {
   "cell_type": "markdown",
   "metadata": {
    "pycharm": {}
   },
   "source": [
    "## 6.3. Run MB-SGD"
   ]
  },
  {
   "cell_type": "code",
   "execution_count": 25,
   "metadata": {
    "pycharm": {}
   },
   "outputs": [
    {
     "name": "stdout",
     "output_type": "stream",
     "text": [
      "Objective value at epoch t=0 is 0.5322016966585907\n",
      "Objective value at epoch t=1 is 0.5277916339836\n",
      "Objective value at epoch t=2 is 0.5139342331815555\n",
      "Objective value at epoch t=3 is 0.5111303102999928\n",
      "Objective value at epoch t=4 is 0.502289508075585\n",
      "Objective value at epoch t=5 is 0.49112530984960967\n",
      "Objective value at epoch t=6 is 0.485178082535315\n",
      "Objective value at epoch t=7 is 0.486927461245629\n",
      "Objective value at epoch t=8 is 0.48984286336328176\n",
      "Objective value at epoch t=9 is 0.4798828605969613\n",
      "Objective value at epoch t=10 is 0.479881838613773\n",
      "Objective value at epoch t=11 is 0.47912125129157584\n",
      "Objective value at epoch t=12 is 0.47493712411083855\n",
      "Objective value at epoch t=13 is 0.4703406054905752\n",
      "Objective value at epoch t=14 is 0.4713741683237348\n",
      "Objective value at epoch t=15 is 0.47258352519662583\n",
      "Objective value at epoch t=16 is 0.46996941690453153\n",
      "Objective value at epoch t=17 is 0.4661876042992943\n",
      "Objective value at epoch t=18 is 0.46565675713877336\n",
      "Objective value at epoch t=19 is 0.46511700270956424\n",
      "Objective value at epoch t=20 is 0.4644759509042748\n",
      "Objective value at epoch t=21 is 0.465564105928728\n",
      "Objective value at epoch t=22 is 0.463878232545757\n",
      "Objective value at epoch t=23 is 0.46042064604471894\n",
      "Objective value at epoch t=24 is 0.46314618910319255\n",
      "Objective value at epoch t=25 is 0.46210592850743665\n",
      "Objective value at epoch t=26 is 0.46107776604795425\n",
      "Objective value at epoch t=27 is 0.4608753501515107\n",
      "Objective value at epoch t=28 is 0.46048786247361895\n",
      "Objective value at epoch t=29 is 0.45975829227694087\n",
      "Objective value at epoch t=30 is 0.45960023108745957\n",
      "Objective value at epoch t=31 is 0.4592831716039947\n",
      "Objective value at epoch t=32 is 0.45921762677569256\n",
      "Objective value at epoch t=33 is 0.4588518008532862\n",
      "Objective value at epoch t=34 is 0.4583300283002421\n",
      "Objective value at epoch t=35 is 0.4582518936412304\n",
      "Objective value at epoch t=36 is 0.45826893069738495\n",
      "Objective value at epoch t=37 is 0.45775897435132046\n",
      "Objective value at epoch t=38 is 0.4577949228313911\n",
      "Objective value at epoch t=39 is 0.45756167192703767\n",
      "Objective value at epoch t=40 is 0.4573418281808214\n",
      "Objective value at epoch t=41 is 0.4573010627898033\n",
      "Objective value at epoch t=42 is 0.4570465981171439\n",
      "Objective value at epoch t=43 is 0.45710765268509485\n",
      "Objective value at epoch t=44 is 0.4569440948595208\n",
      "Objective value at epoch t=45 is 0.45700403132498213\n",
      "Objective value at epoch t=46 is 0.4569150298247096\n",
      "Objective value at epoch t=47 is 0.45686195039134103\n",
      "Objective value at epoch t=48 is 0.4567575265520974\n",
      "Objective value at epoch t=49 is 0.4566787349016404\n",
      "Objective value at epoch t=50 is 0.4566438909972419\n",
      "Objective value at epoch t=51 is 0.456590454753057\n",
      "Objective value at epoch t=52 is 0.4565717052213354\n",
      "Objective value at epoch t=53 is 0.45657790509613616\n",
      "Objective value at epoch t=54 is 0.45648778484575675\n",
      "Objective value at epoch t=55 is 0.4564678919719296\n",
      "Objective value at epoch t=56 is 0.4564574882188059\n",
      "Objective value at epoch t=57 is 0.4564066173496081\n",
      "Objective value at epoch t=58 is 0.4564054973407353\n",
      "Objective value at epoch t=59 is 0.456374782040304\n",
      "Objective value at epoch t=60 is 0.45637141016301275\n",
      "Objective value at epoch t=61 is 0.45634754962599444\n",
      "Objective value at epoch t=62 is 0.45633502341959387\n",
      "Objective value at epoch t=63 is 0.4563240668427736\n",
      "Objective value at epoch t=64 is 0.4563204029692165\n",
      "Objective value at epoch t=65 is 0.45630426193643353\n",
      "Objective value at epoch t=66 is 0.4562955394366517\n",
      "Objective value at epoch t=67 is 0.4562854309791612\n",
      "Objective value at epoch t=68 is 0.4562728160051229\n",
      "Objective value at epoch t=69 is 0.45627179510072385\n",
      "Objective value at epoch t=70 is 0.4562668790377435\n",
      "Objective value at epoch t=71 is 0.4562650964720899\n",
      "Objective value at epoch t=72 is 0.4562546729395775\n",
      "Objective value at epoch t=73 is 0.4562518250636224\n",
      "Objective value at epoch t=74 is 0.4562471954440272\n",
      "Objective value at epoch t=75 is 0.45624663258608356\n",
      "Objective value at epoch t=76 is 0.45623925972270946\n",
      "Objective value at epoch t=77 is 0.45623859470049394\n",
      "Objective value at epoch t=78 is 0.4562340827821848\n",
      "Objective value at epoch t=79 is 0.45623339661168616\n",
      "Objective value at epoch t=80 is 0.45623113954232364\n",
      "Objective value at epoch t=81 is 0.4562291140590721\n",
      "Objective value at epoch t=82 is 0.45622729972368037\n",
      "Objective value at epoch t=83 is 0.45622635966807357\n",
      "Objective value at epoch t=84 is 0.4562248116142231\n",
      "Objective value at epoch t=85 is 0.4562241094229226\n",
      "Objective value at epoch t=86 is 0.45622240547553067\n",
      "Objective value at epoch t=87 is 0.4562221910961289\n",
      "Objective value at epoch t=88 is 0.4562214589894782\n",
      "Objective value at epoch t=89 is 0.45621995531352255\n",
      "Objective value at epoch t=90 is 0.4562190510445359\n",
      "Objective value at epoch t=91 is 0.45621809986066186\n",
      "Objective value at epoch t=92 is 0.4562175043303318\n",
      "Objective value at epoch t=93 is 0.45621717222346386\n",
      "Objective value at epoch t=94 is 0.4562164781166126\n",
      "Objective value at epoch t=95 is 0.4562163848021812\n",
      "Objective value at epoch t=96 is 0.456215844640764\n",
      "Objective value at epoch t=97 is 0.45621570370829484\n",
      "Objective value at epoch t=98 is 0.45621563594941855\n",
      "Objective value at epoch t=99 is 0.4562150481591841\n"
     ]
    }
   ],
   "source": [
    "# MB-SGD with batch size b=8\n",
    "lam = 1E-6 # do not change\n",
    "b = 8 # do not change\n",
    "stepsize = 1 # you must tune this parameter\n",
    "\n",
    "w, objvals_mbsgd8 = mb_sgd(x_train, y_train, lam, b, stepsize)"
   ]
  },
  {
   "cell_type": "code",
   "execution_count": 26,
   "metadata": {
    "pycharm": {}
   },
   "outputs": [
    {
     "name": "stdout",
     "output_type": "stream",
     "text": [
      "Objective value at epoch t=0 is 0.5164408194274613\n",
      "Objective value at epoch t=1 is 0.46892470524136903\n",
      "Objective value at epoch t=2 is 0.4672142112416064\n",
      "Objective value at epoch t=3 is 0.4712664899322586\n",
      "Objective value at epoch t=4 is 0.4636737241551808\n",
      "Objective value at epoch t=5 is 0.4628971997784214\n",
      "Objective value at epoch t=6 is 0.4633339439311516\n",
      "Objective value at epoch t=7 is 0.46404195127572584\n",
      "Objective value at epoch t=8 is 0.4625407622015237\n",
      "Objective value at epoch t=9 is 0.46172886117817313\n",
      "Objective value at epoch t=10 is 0.46140146399615106\n",
      "Objective value at epoch t=11 is 0.4608836277619354\n",
      "Objective value at epoch t=12 is 0.460135584551267\n",
      "Objective value at epoch t=13 is 0.45988547912193595\n",
      "Objective value at epoch t=14 is 0.45955277788278864\n",
      "Objective value at epoch t=15 is 0.4587354401448526\n",
      "Objective value at epoch t=16 is 0.4583338894824319\n",
      "Objective value at epoch t=17 is 0.4585685924121171\n",
      "Objective value at epoch t=18 is 0.45848307167091973\n",
      "Objective value at epoch t=19 is 0.4582663526195252\n",
      "Objective value at epoch t=20 is 0.45771282748493947\n",
      "Objective value at epoch t=21 is 0.45796745431601404\n",
      "Objective value at epoch t=22 is 0.45738237394307024\n",
      "Objective value at epoch t=23 is 0.45750657776686554\n",
      "Objective value at epoch t=24 is 0.4574591746559199\n",
      "Objective value at epoch t=25 is 0.4573809891896685\n",
      "Objective value at epoch t=26 is 0.45717879193268074\n",
      "Objective value at epoch t=27 is 0.4570150427881202\n",
      "Objective value at epoch t=28 is 0.4569764401238111\n",
      "Objective value at epoch t=29 is 0.4569575385480017\n",
      "Objective value at epoch t=30 is 0.45671805144961686\n",
      "Objective value at epoch t=31 is 0.4566870106877549\n",
      "Objective value at epoch t=32 is 0.45667813321654727\n",
      "Objective value at epoch t=33 is 0.45666602701842834\n",
      "Objective value at epoch t=34 is 0.45660477596780885\n",
      "Objective value at epoch t=35 is 0.4565743094227204\n",
      "Objective value at epoch t=36 is 0.45646044105141825\n",
      "Objective value at epoch t=37 is 0.4564282440084055\n",
      "Objective value at epoch t=38 is 0.45650001541628626\n",
      "Objective value at epoch t=39 is 0.4564555794091424\n",
      "Objective value at epoch t=40 is 0.4564527471422135\n",
      "Objective value at epoch t=41 is 0.45636425045070156\n",
      "Objective value at epoch t=42 is 0.45639634821322755\n",
      "Objective value at epoch t=43 is 0.456377623589124\n",
      "Objective value at epoch t=44 is 0.45633828039138863\n",
      "Objective value at epoch t=45 is 0.45631605340913406\n",
      "Objective value at epoch t=46 is 0.4563084800274626\n",
      "Objective value at epoch t=47 is 0.4563082227546202\n",
      "Objective value at epoch t=48 is 0.45629999409005784\n",
      "Objective value at epoch t=49 is 0.45629136628743894\n",
      "Objective value at epoch t=50 is 0.45631461206964463\n",
      "Objective value at epoch t=51 is 0.4562761070601947\n",
      "Objective value at epoch t=52 is 0.4562905249643895\n",
      "Objective value at epoch t=53 is 0.4562573624621623\n",
      "Objective value at epoch t=54 is 0.45625984789730545\n",
      "Objective value at epoch t=55 is 0.45625237767583104\n",
      "Objective value at epoch t=56 is 0.45624267366180965\n",
      "Objective value at epoch t=57 is 0.45625538797769094\n",
      "Objective value at epoch t=58 is 0.4562488845813501\n",
      "Objective value at epoch t=59 is 0.4562422980671491\n",
      "Objective value at epoch t=60 is 0.4562425342759477\n",
      "Objective value at epoch t=61 is 0.4562347007030311\n",
      "Objective value at epoch t=62 is 0.45624025504740306\n",
      "Objective value at epoch t=63 is 0.4562301181020591\n",
      "Objective value at epoch t=64 is 0.45622446550050777\n",
      "Objective value at epoch t=65 is 0.4562293964997397\n",
      "Objective value at epoch t=66 is 0.456228251311225\n",
      "Objective value at epoch t=67 is 0.45622505079797\n",
      "Objective value at epoch t=68 is 0.4562196363883501\n",
      "Objective value at epoch t=69 is 0.4562226729310206\n",
      "Objective value at epoch t=70 is 0.45622391025555514\n",
      "Objective value at epoch t=71 is 0.4562197088905783\n",
      "Objective value at epoch t=72 is 0.45622115496309756\n",
      "Objective value at epoch t=73 is 0.4562204208800743\n",
      "Objective value at epoch t=74 is 0.4562199625268949\n",
      "Objective value at epoch t=75 is 0.4562174067402328\n",
      "Objective value at epoch t=76 is 0.45621769527769607\n",
      "Objective value at epoch t=77 is 0.4562163616907279\n",
      "Objective value at epoch t=78 is 0.456216072958631\n",
      "Objective value at epoch t=79 is 0.4562157919131639\n",
      "Objective value at epoch t=80 is 0.4562156506997298\n",
      "Objective value at epoch t=81 is 0.45621518695544694\n",
      "Objective value at epoch t=82 is 0.456215675457819\n",
      "Objective value at epoch t=83 is 0.45621494226319215\n",
      "Objective value at epoch t=84 is 0.45621457923379827\n",
      "Objective value at epoch t=85 is 0.45621451062387797\n",
      "Objective value at epoch t=86 is 0.4562134404214803\n",
      "Objective value at epoch t=87 is 0.45621379898348485\n",
      "Objective value at epoch t=88 is 0.45621376088444404\n",
      "Objective value at epoch t=89 is 0.45621331423226846\n",
      "Objective value at epoch t=90 is 0.4562130052325627\n",
      "Objective value at epoch t=91 is 0.4562131272348144\n",
      "Objective value at epoch t=92 is 0.4562133527333283\n",
      "Objective value at epoch t=93 is 0.45621310995991815\n",
      "Objective value at epoch t=94 is 0.4562128995335503\n",
      "Objective value at epoch t=95 is 0.4562128255396753\n",
      "Objective value at epoch t=96 is 0.45621288239255975\n",
      "Objective value at epoch t=97 is 0.4562128142418745\n",
      "Objective value at epoch t=98 is 0.4562128112319276\n",
      "Objective value at epoch t=99 is 0.45621272030227916\n"
     ]
    }
   ],
   "source": [
    "# MB-SGD with batch size b=64\n",
    "lam = 1E-6 # do not change\n",
    "b = 64 # do not change\n",
    "stepsize = 1.5 # you must tune this parameter\n",
    "\n",
    "w, objvals_mbsgd64 = mb_sgd(x_train, y_train, lam, b, stepsize)"
   ]
  },
  {
   "cell_type": "markdown",
   "metadata": {
    "pycharm": {}
   },
   "source": [
    "# 7. Plot and compare GD, SGD, and MB-SGD"
   ]
  },
  {
   "cell_type": "markdown",
   "metadata": {
    "pycharm": {}
   },
   "source": [
    "You are required to compare the following algorithms:\n",
    "\n",
    "- Gradient descent (GD)\n",
    "\n",
    "- SGD\n",
    "\n",
    "- MB-SGD with b=8\n",
    "\n",
    "- MB-SGD with b=64\n",
    "\n",
    "Follow the code in Section 4 to plot ```objective function value``` against ```epochs```. There should be four curves in the plot; each curve corresponds to one algorithm."
   ]
  },
  {
   "cell_type": "markdown",
   "metadata": {
    "pycharm": {}
   },
   "source": [
    "Hint: Logistic regression with $\\ell_2$-norm regularization is a strongly convex optimization problem. All the algorithms will converge to the same solution. **In the end, the ``objective function value`` of the 4 algorithms will be the same. If not the same, your implementation must be wrong. Do NOT submit wrong code and wrong result!**"
   ]
  },
  {
   "cell_type": "code",
   "execution_count": 27,
   "metadata": {
    "pycharm": {}
   },
   "outputs": [
    {
     "data": {
      "image/png": "[encoded data removed]",
      "text/plain": [
       "<Figure size 432x288 with 1 Axes>"
      ]
     },
     "metadata": {
      "needs_background": "light"
     },
     "output_type": "display_data"
    }
   ],
   "source": [
    "# plot the 4 curves:\n",
    "fig = plt.figure(figsize=(6, 4))\n",
    "\n",
    "epochs_gd = range(len(objvals_gd))\n",
    "epochs_sgd = range(len(objvals_sgd))\n",
    "epochs_mbsgd8 = range(len(objvals_mbsgd8))\n",
    "epochs_mbsgd64 = range(len(objvals_mbsgd64))\n",
    "\n",
    "line0, = plt.plot(epochs_gd, objvals_gd, '--b', LineWidth=4)\n",
    "line1, = plt.plot(epochs_sgd, objvals_sgd, '-r', LineWidth=2)\n",
    "line2, = plt.plot(epochs_mbsgd8, objvals_mbsgd8, '-g', LineWidth=2)\n",
    "line3, = plt.plot(epochs_mbsgd64, objvals_mbsgd64, '--g', LineWidth=2)\n",
    "\n",
    "plt.xlabel('Epochs', FontSize=20)\n",
    "plt.ylabel('Objective Value', FontSize=20)\n",
    "plt.xticks(FontSize=16)\n",
    "plt.yticks(FontSize=16)\n",
    "plt.legend([line0, line1, line2, line3], ['GD', 'SGD', 'MB-SGD with b=8', 'MB-SGD with b=64'], fontsize=20)\n",
    "\n",
    "plt.tight_layout()\n",
    "plt.show()\n",
    "fig.savefig('compare_gd_sgd.pdf', format='pdf', dpi=1200)"
   ]
  },
  {
   "cell_type": "markdown",
   "metadata": {
    "pycharm": {}
   },
   "source": []
  }
 ],
 "metadata": {
  "kernelspec": {
   "display_name": "Python 2",
   "language": "python",
   "name": "python2"
  },
  "language_info": {
   "codemirror_mode": {
    "name": "ipython",
    "version": 2
   },
   "file_extension": ".py",
   "mimetype": "text/x-python",
   "name": "python",
   "nbconvert_exporter": "python",
   "pygments_lexer": "ipython2",
   "version": "2.7.16"
  }
 },
 "nbformat": 4,
 "nbformat_minor": 2
}
