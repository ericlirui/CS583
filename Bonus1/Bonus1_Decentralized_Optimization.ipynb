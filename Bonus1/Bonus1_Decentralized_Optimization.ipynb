{
 "cells": [
  {
   "cell_type": "markdown",
   "metadata": {},
   "source": [
    "# Bonus1: Parallel Algorithms\n",
    "\n",
    "### Name: [RUI LI]\n"
   ]
  },
  {
   "cell_type": "markdown",
   "metadata": {},
   "source": [
    "## 0. You will do the following:\n",
    "\n",
    "1. Read the lecture note: [click here](https://github.com/wangshusen/DeepLearning/blob/master/LectureNotes/Parallel/Parallel.pdf)\n",
    "\n",
    "2. Implement federated averaging or decentralized optimization.\n",
    "\n",
    "3. Plot the convergence curve. (The x-axis can be ```number of epochs``` or ```number of communication```. You must make sure the label is correct.)\n",
    "\n",
    "4. Convert the .IPYNB file to .HTML file.\n",
    "\n",
    "    * The HTML file must contain **the code** and **the output after execution**.\n",
    "    \n",
    "5. Upload this .HTML file to your Google Drive, Dropbox, or your Github repo. (If it is submitted to Google Drive or Dropbox, you must make the file open-access.)\n",
    "\n",
    "6. Submit the link to this .HTML file to Canvas.\n",
    "\n",
    "    * Example: https://github.com/wangshusen/CS583-2020S/blob/master/homework/Bonus1/Bonus1.html\n",
    "\n"
   ]
  },
  {
   "cell_type": "code",
   "execution_count": null,
   "metadata": {},
   "outputs": [],
   "source": []
  },
  {
   "cell_type": "markdown",
   "metadata": {},
   "source": [
    "# 1. Data processing\n",
    "\n",
    "- Download the Diabete dataset from https://www.csie.ntu.edu.tw/~cjlin/libsvmtools/datasets/binary/diabetes\n",
    "- Load the data using sklearn.\n",
    "- Preprocess the data."
   ]
  },
  {
   "cell_type": "markdown",
   "metadata": {},
   "source": [
    "## 1.1. Load the data"
   ]
  },
  {
   "cell_type": "code",
   "execution_count": 110,
   "metadata": {},
   "outputs": [
    {
     "name": "stdout",
     "output_type": "stream",
     "text": [
      "Shape of x: (768, 8)\n",
      "Shape of y: (768,)\n"
     ]
    }
   ],
   "source": [
    "from sklearn import datasets\n",
    "import numpy\n",
    "\n",
    "x_sparse, y = datasets.load_svmlight_file('diabetes')\n",
    "x = x_sparse.todense()\n",
    "\n",
    "print('Shape of x: ' + str(x.shape))\n",
    "print('Shape of y: ' + str(y.shape))"
   ]
  },
  {
   "cell_type": "markdown",
   "metadata": {},
   "source": [
    "## 1.2. Partition to training and test sets"
   ]
  },
  {
   "cell_type": "code",
   "execution_count": 111,
   "metadata": {},
   "outputs": [
    {
     "name": "stdout",
     "output_type": "stream",
     "text": [
      "Shape of x_train: (640, 8)\n",
      "Shape of x_test: (128, 8)\n",
      "Shape of y_train: (640, 1)\n",
      "Shape of y_test: (128, 1)\n"
     ]
    }
   ],
   "source": [
    "# partition the data to training and test sets\n",
    "n = x.shape[0]\n",
    "n_train = 640\n",
    "n_test = n - n_train\n",
    "\n",
    "rand_indices = numpy.random.permutation(n)\n",
    "train_indices = rand_indices[0:n_train]\n",
    "test_indices = rand_indices[n_train:n]\n",
    "\n",
    "x_train = x[train_indices, :]\n",
    "x_test = x[test_indices, :]\n",
    "y_train = y[train_indices].reshape(n_train, 1)\n",
    "y_test = y[test_indices].reshape(n_test, 1)\n",
    "\n",
    "print('Shape of x_train: ' + str(x_train.shape))\n",
    "print('Shape of x_test: ' + str(x_test.shape))\n",
    "print('Shape of y_train: ' + str(y_train.shape))\n",
    "print('Shape of y_test: ' + str(y_test.shape))"
   ]
  },
  {
   "cell_type": "markdown",
   "metadata": {},
   "source": [
    "## 1.3. Feature scaling"
   ]
  },
  {
   "cell_type": "markdown",
   "metadata": {},
   "source": [
    "Use the standardization to trainsform both training and test features"
   ]
  },
  {
   "cell_type": "code",
   "execution_count": 112,
   "metadata": {},
   "outputs": [
    {
     "name": "stdout",
     "output_type": "stream",
     "text": [
      "test mean = \n",
      "[[-0.02001646 -0.02824883 -0.10657544 -0.06831073  0.04455496  0.04606296\n",
      "  -0.05966172 -0.0062372 ]]\n",
      "test std = \n",
      "[[1.01894089 1.16665708 1.16418355 1.07395802 1.00658695 0.99331585\n",
      "  0.90194216 0.98895725]]\n"
     ]
    }
   ],
   "source": [
    "# Standardization\n",
    "import numpy\n",
    "\n",
    "# calculate mu and sig using the training set\n",
    "d = x_train.shape[1]\n",
    "mu = numpy.mean(x_train, axis=0).reshape(1, d)\n",
    "sig = numpy.std(x_train, axis=0).reshape(1, d)\n",
    "\n",
    "# transform the training features\n",
    "x_train = (x_train - mu) / (sig + 1E-6)\n",
    "\n",
    "# transform the test features\n",
    "x_test = (x_test - mu) / (sig + 1E-6)\n",
    "\n",
    "print('test mean = ')\n",
    "print(numpy.mean(x_test, axis=0))\n",
    "\n",
    "print('test std = ')\n",
    "print(numpy.std(x_test, axis=0))"
   ]
  },
  {
   "cell_type": "markdown",
   "metadata": {},
   "source": [
    "## 1.4. Add a dimension of all ones"
   ]
  },
  {
   "cell_type": "code",
   "execution_count": 113,
   "metadata": {},
   "outputs": [
    {
     "name": "stdout",
     "output_type": "stream",
     "text": [
      "Shape of x_train: (640, 9)\n",
      "Shape of x_test: (128, 9)\n"
     ]
    }
   ],
   "source": [
    "n_train, d = x_train.shape\n",
    "x_train = numpy.concatenate((x_train, numpy.ones((n_train, 1))), axis=1)\n",
    "\n",
    "n_test, d = x_test.shape\n",
    "x_test = numpy.concatenate((x_test, numpy.ones((n_test, 1))), axis=1)\n",
    "\n",
    "print('Shape of x_train: ' + str(x_train.shape))\n",
    "print('Shape of x_test: ' + str(x_test.shape))"
   ]
  },
  {
   "cell_type": "markdown",
   "metadata": {},
   "source": [
    "## WORKER"
   ]
  },
  {
   "cell_type": "code",
   "execution_count": 114,
   "metadata": {},
   "outputs": [],
   "source": [
    "\n",
    "class Worker:\n",
    "    def __init__(self,x,y, idx):\n",
    "        self.x = x #  s−by−d l o c a l f e a t u r e ma tr\n",
    "        self.y = y  # s−by−d l o c a l f e a t u r e ma tr\n",
    "        self.s = x.shape[0] #number of local samples\n",
    "        self.d = x.shape[1] #number of featrues\n",
    "        self.w = numpy.zeros((self.d,1)) #d by 1 model parameter vector\n",
    "        self.g = numpy.zeros((self.d,1))\n",
    "        self.neighbor_weight = {}\n",
    "        self.link_list = []\n",
    "        self.idx = idx\n",
    "\n",
    "    def set_param(self,w):\n",
    "        self.w = w\n",
    "        \n",
    "    def loss(self):\n",
    "        yx = numpy.multiply(self.y, self.x) #s by d matrix\n",
    "        yxw = numpy.dot(yx, self.w) \n",
    "        vec1 = numpy.exp(-yxw)\n",
    "        vec2 = numpy.log(1 + vec1)\n",
    "        return numpy.sum(vec2)\n",
    "    \n",
    "    def gradient(self):\n",
    "        yx = numpy.multiply(self.y, self.x) #s by d matrix\n",
    "        yxw = numpy.dot(yx, self.w) #s by 1\n",
    "        vec1 = numpy.exp(yxw) #s by 1\n",
    "        vec2 = numpy.divide(yx, 1 + vec1) #s by d\n",
    "        #g = -numpy.sum(vec2, axis = 0).reshape(self.d, 1) #d by 1\n",
    "        vec3 = -numpy.mean(vec2, axis=0).reshape(self.d, 1) # d-by-1 matrix\n",
    "        self.g = vec3 + lam * self.w\n",
    "        \n",
    "    def broadcast_weight(self):\n",
    "        for l in self.link_list:\n",
    "            self.exchange_weight(l)\n",
    "            \n",
    "    def exchange_weight(self, worker):\n",
    "        if worker.idx not in self.neighbor_weight.keys():\n",
    "            self.neighbor_weight[worker.idx] = worker.w\n",
    "        if self.idx not in worker.neighbor_weight.keys():\n",
    "            worker.exchange_weight(self)\n",
    "            \n",
    "    #add each other\n",
    "    def add_link(self, worker):\n",
    "        self.link_list.append(worker)\n",
    "        worker.link_list.append(self)\n",
    "\n",
    "    def update_weight(self, alpha, weight):\n",
    "        neighbor_num =len(self.link_list)\n",
    "        new_w = weight * self.w\n",
    "        for i in self.neighbor_weight.keys():\n",
    "            new_w += self.neighbor_weight[i]\n",
    "        new_w  /= (neighbor_num + weight)\n",
    "        self.w = new_w - alpha * self.g\n",
    "        self.neighbor_weight = {}\n",
    "        return self.w\n"
   ]
  },
  {
   "cell_type": "markdown",
   "metadata": {},
   "source": [
    "## INITIALIZATION\n",
    "        "
   ]
  },
  {
   "cell_type": "code",
   "execution_count": 115,
   "metadata": {},
   "outputs": [],
   "source": [
    "import math\n",
    "\n",
    "#create m worker nodes\n",
    "def create_workers(m, x, y):\n",
    "    n,d = x.shape\n",
    "    s = math.floor(n / m)\n",
    "    workers = []\n",
    "    for i in range(m):\n",
    "        indices = list(range(int(i * s), int((i+1)*s)))\n",
    "        worker = Worker(x[indices, :], y[indices, :], str(i))\n",
    "        workers.append(worker)\n",
    "    \n",
    "    workers[0].add_link(workers[1])\n",
    "    workers[0].add_link(workers[2])\n",
    "    workers[1].add_link(workers[2])\n",
    "    workers[1].add_link(workers[3])\n",
    "    workers[2].add_link(workers[4])\n",
    "    workers[3].add_link(workers[4])\n",
    "    workers[4].add_link(workers[5])\n",
    "    workers[4].add_link(workers[6])\n",
    "    workers[5].add_link(workers[6])\n",
    "    return workers\n",
    "\n",
    "m = 7"
   ]
  },
  {
   "cell_type": "code",
   "execution_count": 116,
   "metadata": {},
   "outputs": [],
   "source": [
    "# Calculate the objective function value\n",
    "# Inputs:\n",
    "#     w: d-by-1 matrix\n",
    "#     x: n-by-d matrix\n",
    "#     y: n-by-1 matrix\n",
    "#     lam: scalar, the regularization parameter\n",
    "# Return:\n",
    "#     objective function value (scalar)\n",
    "def objective(w, x, y, lam):\n",
    "    n, d = x.shape\n",
    "    yx = numpy.multiply(y, x) # n-by-d matrix\n",
    "    yxw = numpy.dot(yx, w) # n-by-1 matrix\n",
    "    vec1 = numpy.exp(-yxw) # n-by-1 matrix\n",
    "    vec2 = numpy.log(1 + vec1) # n-by-1 matrix\n",
    "    loss = numpy.mean(vec2) # scalar\n",
    "    reg = lam / 2 * numpy.sum(w * w) # scalar\n",
    "    return loss + reg\n",
    "    "
   ]
  },
  {
   "cell_type": "code",
   "execution_count": 117,
   "metadata": {},
   "outputs": [],
   "source": [
    "def test_decetralized_opt(lam, alpha, max_epoch, weight):\n",
    "    objvals = numpy.zeros(max_epoch) # store the objective values\n",
    "    W = numpy.zeros((d+1,1))\n",
    "    for t in range(max_epoch):\n",
    "        #broadcast\n",
    "        w = numpy.zeros((d+1,1))\n",
    "        #worker local computation\n",
    "        for i in range(m):\n",
    "            workers[i].gradient()\n",
    "            workers[i].broadcast_weight()\n",
    "            w += workers[i].update_weight(alpha, weight)\n",
    "        w /= m\n",
    "        obj = objective(w, x_train, y_train, lam) #compute objective function\n",
    "        print('Objective function value = ' + str(obj))\n",
    "        objvals[t] = obj\n",
    "        W=w\n",
    "    return objvals,W"
   ]
  },
  {
   "cell_type": "code",
   "execution_count": 118,
   "metadata": {},
   "outputs": [
    {
     "name": "stdout",
     "output_type": "stream",
     "text": [
      "Objective function value = 0.6463821902095791\n",
      "Objective function value = 0.6260019814957664\n",
      "Objective function value = 0.6054851490087807\n",
      "Objective function value = 0.5887789098107991\n",
      "Objective function value = 0.5751883794167957\n",
      "Objective function value = 0.5638107119103439\n",
      "Objective function value = 0.5540583272061864\n",
      "Objective function value = 0.5457044018015823\n",
      "Objective function value = 0.5385009260476686\n",
      "Objective function value = 0.5321927167493751\n",
      "Objective function value = 0.5266469461404132\n",
      "Objective function value = 0.521750063023307\n",
      "Objective function value = 0.5173899527980214\n",
      "Objective function value = 0.513490825575034\n",
      "Objective function value = 0.5099914537256128\n",
      "Objective function value = 0.506835498883941\n",
      "Objective function value = 0.5039789774308063\n",
      "Objective function value = 0.5013858938370814\n",
      "Objective function value = 0.4990243951181186\n",
      "Objective function value = 0.4968678277052684\n",
      "Objective function value = 0.49489374479588016\n",
      "Objective function value = 0.4930825004580341\n",
      "Objective function value = 0.4914171173723725\n",
      "Objective function value = 0.48988293533357935\n",
      "Objective function value = 0.48846707558964897\n",
      "Objective function value = 0.4871582170952476\n",
      "Objective function value = 0.4859464058777221\n",
      "Objective function value = 0.48482282150683675\n",
      "Objective function value = 0.48377962181552275\n",
      "Objective function value = 0.48280982347363555\n",
      "Objective function value = 0.4819071823087617\n",
      "Objective function value = 0.4810660973727319\n",
      "Objective function value = 0.48028153430554915\n",
      "Objective function value = 0.4795489557745943\n",
      "Objective function value = 0.4788642619877537\n",
      "Objective function value = 0.47822374098130094\n",
      "Objective function value = 0.4776240249136113\n",
      "Objective function value = 0.4770620519297444\n",
      "Objective function value = 0.4765350333249253\n",
      "Objective function value = 0.4760404247607836\n",
      "Objective function value = 0.4755759009390973\n",
      "Objective function value = 0.4751393334088779\n",
      "Objective function value = 0.47472877099506616\n",
      "Objective function value = 0.47434242246602015\n",
      "Objective function value = 0.47397864118033034\n",
      "Objective function value = 0.47363591144632305\n",
      "Objective function value = 0.47331283636599497\n",
      "Objective function value = 0.473008126984684\n",
      "Objective function value = 0.4727205925860269\n",
      "Objective function value = 0.47244913199197924\n",
      "Objective function value = 0.4721927257500151\n",
      "Objective function value = 0.47195042910456364\n",
      "Objective function value = 0.4717213656627596\n",
      "Objective function value = 0.47150472167662894\n",
      "Objective function value = 0.4712997408735716\n",
      "Objective function value = 0.47110571977548155\n",
      "Objective function value = 0.4709220034541834\n",
      "Objective function value = 0.4707479816771005\n",
      "Objective function value = 0.4705830854025745\n",
      "Objective function value = 0.4704267835889945\n",
      "Objective function value = 0.47027858028597813\n",
      "Objective function value = 0.47013801197945815\n",
      "Objective function value = 0.4700046451656808\n",
      "Objective function value = 0.46987807413185095\n",
      "Objective function value = 0.4697579189235872\n",
      "Objective function value = 0.46964382348147254\n",
      "Objective function value = 0.4695354539308604\n",
      "Objective function value = 0.46943249701074474\n",
      "Objective function value = 0.46933465862897183\n",
      "Objective function value = 0.46924166253236266\n",
      "Objective function value = 0.4691532490814694\n",
      "Objective function value = 0.4690691741207075\n",
      "Objective function value = 0.46898920793552057\n",
      "Objective function value = 0.46891313428904297\n",
      "Objective function value = 0.4688407495314515\n",
      "Objective function value = 0.4687718617758456\n",
      "Objective function value = 0.4687062901350763\n",
      "Objective function value = 0.468643864014461\n",
      "Objective function value = 0.4685844224557936\n",
      "Objective function value = 0.4685278135284731\n",
      "Objective function value = 0.468473893763954\n",
      "Objective function value = 0.4684225276300628\n",
      "Objective function value = 0.468373587042028\n",
      "Objective function value = 0.46832695090734977\n",
      "Objective function value = 0.4682825047018863\n",
      "Objective function value = 0.4682401400747555\n",
      "Objective function value = 0.4681997544798628\n",
      "Objective function value = 0.46816125083204146\n",
      "Objective function value = 0.46812453718596986\n",
      "Objective function value = 0.4680895264361758\n",
      "Objective function value = 0.4680561360365803\n",
      "Objective function value = 0.4680242877381581\n",
      "Objective function value = 0.467993907343409\n",
      "Objective function value = 0.46796492447643423\n",
      "Objective function value = 0.467937272367515\n",
      "Objective function value = 0.4679108876511695\n",
      "Objective function value = 0.46788571017675074\n",
      "Objective function value = 0.4678616828307162\n",
      "Objective function value = 0.46783875136976877\n",
      "Objective function value = 0.46781686426412905\n"
     ]
    }
   ],
   "source": [
    "lam = 1E-6\n",
    "alpha = 0.4\n",
    "max_epoch = 100\n",
    "weight = 1\n",
    "\n",
    "workers = create_workers(m, x_train, y_train)\n",
    "objvals_unweighted,w = test_decetralized_opt(lam, alpha, max_epoch, weight)"
   ]
  },
  {
   "cell_type": "code",
   "execution_count": 119,
   "metadata": {},
   "outputs": [
    {
     "name": "stdout",
     "output_type": "stream",
     "text": [
      "Training classification error is 0.215625\n",
      "Test classification error is 0.21875\n"
     ]
    }
   ],
   "source": [
    "# Predict class label\n",
    "# Inputs:\n",
    "#     w: d-by-1 matrix\n",
    "#     X: m-by-d matrix\n",
    "# Return:\n",
    "#     f: m-by-1 matrix, the predictions\n",
    "def predict(w, X):\n",
    "    xw = numpy.dot(X, w)\n",
    "    f = numpy.sign(xw)\n",
    "    return f\n",
    "\n",
    "# evaluate training error\n",
    "f_train = predict(w, x_train)\n",
    "diff = numpy.abs(f_train - y_train) / 2\n",
    "error_train = numpy.mean(diff)\n",
    "print('Training classification error is ' + str(error_train))\n",
    "\n",
    "# evaluate test error\n",
    "f_test = predict(w, x_test)\n",
    "diff = numpy.abs(f_test - y_test) / 2\n",
    "error_test = numpy.mean(diff)\n",
    "print('Test classification error is ' + str(error_test))"
   ]
  },
  {
   "cell_type": "code",
   "execution_count": 120,
   "metadata": {},
   "outputs": [
    {
     "name": "stdout",
     "output_type": "stream",
     "text": [
      "Objective function value = 0.6463821902095791\n",
      "Objective function value = 0.6192608181321215\n",
      "Objective function value = 0.5973911901136598\n",
      "Objective function value = 0.5801376478458373\n",
      "Objective function value = 0.5661602735504035\n",
      "Objective function value = 0.554656878338881\n",
      "Objective function value = 0.5450516855731242\n",
      "Objective function value = 0.5369287087349691\n",
      "Objective function value = 0.529983260716268\n",
      "Objective function value = 0.5239875081885392\n",
      "Objective function value = 0.5187681059320016\n",
      "Objective function value = 0.5141911276693346\n",
      "Objective function value = 0.5101516035498906\n",
      "Objective function value = 0.5065661529346396\n",
      "Objective function value = 0.5033677252976936\n",
      "Objective function value = 0.5005017900383116\n",
      "Objective function value = 0.4979235367925455\n",
      "Objective function value = 0.49559579108518204\n",
      "Objective function value = 0.49348744325398164\n",
      "Objective function value = 0.49157225032704777\n",
      "Objective function value = 0.4898279121722835\n",
      "Objective function value = 0.48823535166942855\n",
      "Objective function value = 0.4867781483043418\n",
      "Objective function value = 0.48544208832858543\n",
      "Objective function value = 0.4842148043513532\n",
      "Objective function value = 0.48308548418664365\n",
      "Objective function value = 0.4820446338063719\n",
      "Objective function value = 0.48108388292053145\n",
      "Objective function value = 0.4801958244104171\n",
      "Objective function value = 0.4793738808523443\n",
      "Objective function value = 0.47861219287790213\n",
      "Objective function value = 0.47790552525761854\n",
      "Objective function value = 0.47724918746441736\n",
      "Objective function value = 0.4766389661409743\n",
      "Objective function value = 0.47607106741156263\n",
      "Objective function value = 0.47554206738127264\n",
      "Objective function value = 0.4750488694809329\n",
      "Objective function value = 0.47458866756501544\n",
      "Objective function value = 0.47415891386749726\n",
      "Objective function value = 0.4737572910785955\n",
      "Objective function value = 0.47338168793219565\n",
      "Objective function value = 0.4730301777963391\n",
      "Objective function value = 0.47270099984244207\n",
      "Objective function value = 0.47239254243694584\n",
      "Objective function value = 0.472103328454926\n",
      "Objective function value = 0.47183200226123173\n",
      "Objective function value = 0.4715773181428671\n",
      "Objective function value = 0.4713381300080647\n",
      "Objective function value = 0.4711133821940337\n",
      "Objective function value = 0.47090210124761445\n",
      "Objective function value = 0.4707033885618272\n",
      "Objective function value = 0.4705164137671563\n",
      "Objective function value = 0.47034040878986255\n",
      "Objective function value = 0.4701746625010745\n",
      "Objective function value = 0.4700185158901942\n",
      "Objective function value = 0.4698713577045416\n",
      "Objective function value = 0.4697326205043643\n",
      "Objective function value = 0.46960177708855966\n",
      "Objective function value = 0.46947833725181776\n",
      "Objective function value = 0.46936184483855103\n",
      "Objective function value = 0.46925187506301785\n",
      "Objective function value = 0.46914803206856126\n",
      "Objective function value = 0.4690499467019608\n",
      "Objective function value = 0.46895727448157587\n",
      "Objective function value = 0.46886969374031534\n",
      "Objective function value = 0.4687869039265326\n",
      "Objective function value = 0.46870862404776414\n",
      "Objective function value = 0.4686345912438304\n",
      "Objective function value = 0.4685645594772347\n",
      "Objective function value = 0.46849829833004275\n",
      "Objective function value = 0.46843559189754064\n",
      "Objective function value = 0.4683762377699401\n",
      "Objective function value = 0.4683200460942894\n",
      "Objective function value = 0.4682668387095087\n",
      "Objective function value = 0.46821644834817555\n",
      "Objective function value = 0.46816871789929465\n",
      "Objective function value = 0.4681234997268424\n",
      "Objective function value = 0.4680806550393711\n",
      "Objective function value = 0.46804005330639675\n",
      "Objective function value = 0.46800157171769696\n",
      "Objective function value = 0.46796509468199476\n",
      "Objective function value = 0.46793051336183134\n",
      "Objective function value = 0.46789772524171425\n",
      "Objective function value = 0.4678666337268904\n",
      "Objective function value = 0.4678371477703246\n",
      "Objective function value = 0.4678091815256789\n",
      "Objective function value = 0.4677826540242775\n",
      "Objective function value = 0.46775748887421587\n",
      "Objective function value = 0.4677336139799269\n",
      "Objective function value = 0.46771096128066436\n",
      "Objective function value = 0.4676894665064859\n",
      "Objective function value = 0.46766906895044075\n",
      "Objective function value = 0.4676497112557704\n",
      "Objective function value = 0.4676313392170278\n",
      "Objective function value = 0.46761390159411026\n",
      "Objective function value = 0.4675973499382796\n",
      "Objective function value = 0.46758163842931816\n",
      "Objective function value = 0.4675667237230339\n",
      "Objective function value = 0.46755256480839275\n",
      "Objective function value = 0.467539122873607\n"
     ]
    }
   ],
   "source": [
    "lam = 1E-6\n",
    "alpha = 0.4\n",
    "max_epoch = 100\n",
    "weight = 5\n",
    "\n",
    "workers = create_workers(m, x_train, y_train)\n",
    "objvals_weighted,w = test_decetralized_opt(lam, alpha, max_epoch, weight)"
   ]
  },
  {
   "cell_type": "code",
   "execution_count": 121,
   "metadata": {},
   "outputs": [
    {
     "name": "stdout",
     "output_type": "stream",
     "text": [
      "Training classification error is 0.2140625\n",
      "Test classification error is 0.21875\n"
     ]
    }
   ],
   "source": [
    "\n",
    "# evaluate training error\n",
    "f_train = predict(w, x_train)\n",
    "diff = numpy.abs(f_train - y_train) / 2\n",
    "error_train = numpy.mean(diff)\n",
    "print('Training classification error is ' + str(error_train))\n",
    "\n",
    "# evaluate test error\n",
    "f_test = predict(w, x_test)\n",
    "diff = numpy.abs(f_test - y_test) / 2\n",
    "error_test = numpy.mean(diff)\n",
    "print('Test classification error is ' + str(error_test))"
   ]
  },
  {
   "cell_type": "markdown",
   "metadata": {},
   "source": [
    "## COMPARE WEIGHTED AND UNWEIGHTED"
   ]
  },
  {
   "cell_type": "code",
   "execution_count": 122,
   "metadata": {},
   "outputs": [
    {
     "data": {
      "image/png": "[encoded data removed]",
      "text/plain": [
       "<Figure size 432x288 with 1 Axes>"
      ]
     },
     "metadata": {
      "needs_background": "light"
     },
     "output_type": "display_data"
    }
   ],
   "source": [
    "# plot the 2 curves:\n",
    "import matplotlib.pyplot as plt\n",
    "%matplotlib inline\n",
    "\n",
    "fig = plt.figure(figsize=(6, 4))\n",
    "\n",
    "epochs_weighted = range(len(objvals_weighted))\n",
    "epochs_unweighted = range(len(objvals_unweighted))\n",
    "\n",
    "line0, = plt.plot(epochs_weighted, objvals_weighted, '--b', LineWidth=4)\n",
    "line1, = plt.plot(epochs_unweighted, objvals_unweighted, '-r', LineWidth=2)\n",
    "\n",
    "plt.xlabel('Epochs', FontSize=20)\n",
    "plt.ylabel('Objective Value', FontSize=20)\n",
    "plt.xticks(FontSize=16)\n",
    "plt.yticks(FontSize=16)\n",
    "plt.legend([line0, line1], ['weighted averaging', 'simple averaging'], fontsize=20)\n",
    "\n",
    "plt.tight_layout()\n",
    "plt.show()\n",
    "fig.savefig('compare_weight_unweight.pdf', format='pdf', dpi=1200)"
   ]
  },
  {
   "cell_type": "code",
   "execution_count": null,
   "metadata": {},
   "outputs": [],
   "source": []
  }
 ],
 "metadata": {
  "kernelspec": {
   "display_name": "Python 2",
   "language": "python",
   "name": "python2"
  },
  "language_info": {
   "codemirror_mode": {
    "name": "ipython",
    "version": 2
   },
   "file_extension": ".py",
   "mimetype": "text/x-python",
   "name": "python",
   "nbconvert_exporter": "python",
   "pygments_lexer": "ipython2",
   "version": "2.7.16"
  }
 },
 "nbformat": 4,
 "nbformat_minor": 2
}
